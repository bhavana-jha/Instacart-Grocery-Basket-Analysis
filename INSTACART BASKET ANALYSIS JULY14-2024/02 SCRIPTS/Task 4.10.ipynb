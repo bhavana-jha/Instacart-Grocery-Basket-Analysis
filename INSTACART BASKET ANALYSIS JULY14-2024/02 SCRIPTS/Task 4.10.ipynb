{
 "cells": [
  {
   "cell_type": "markdown",
   "id": "81181aff-3036-4363-8415-d2246c04eb4a",
   "metadata": {},
   "source": [
    "# This script contains:\n",
    "1. Import Libraries and Dataset\n",
    "2. Question 2\n",
    "3. Question 3\n",
    "4. Question 4\n",
    "5. Question 5"
   ]
  },
  {
   "cell_type": "markdown",
   "id": "7b3bf8fa-81a5-43ae-b840-8c3895036626",
   "metadata": {},
   "source": [
    "# 1. Import Libraries and Dataset"
   ]
  },
  {
   "cell_type": "code",
   "execution_count": 2,
   "id": "3be75bd2-0c0c-44bf-a80b-151d70b25989",
   "metadata": {},
   "outputs": [],
   "source": [
    "# Import Libraries\n",
    "import pandas as pd\n",
    "import numpy as np\n",
    "import os\n",
    "import matplotlib.pyplot as plt\n",
    "import seaborn as sns\n",
    "import scipy"
   ]
  },
  {
   "cell_type": "code",
   "execution_count": 4,
   "id": "e373e7c3-cfd6-4f1d-ae2b-15019bcfd7d8",
   "metadata": {},
   "outputs": [],
   "source": [
    "# Defining Path\n",
    "path= r'/Users/navneetjha/Desktop/Career foundry Docs/exercises/Data Immersion /Achievement 4/INSTACART BASKET ANALYSIS JULY14-2024'"
   ]
  },
  {
   "cell_type": "code",
   "execution_count": 6,
   "id": "6cfdade8-0e05-4bb4-8bcc-40c4bee4fad9",
   "metadata": {},
   "outputs": [
    {
     "data": {
      "text/plain": [
       "'/Users/navneetjha/Desktop/Career foundry Docs/exercises/Data Immersion /Achievement 4/INSTACART BASKET ANALYSIS JULY14-2024'"
      ]
     },
     "execution_count": 6,
     "metadata": {},
     "output_type": "execute_result"
    }
   ],
   "source": [
    "path"
   ]
  },
  {
   "cell_type": "code",
   "execution_count": 8,
   "id": "077ee75c-06b9-489f-a9d7-47ccfb75197e",
   "metadata": {},
   "outputs": [],
   "source": [
    "# Import Dataset\n",
    "df=pd.read_pickle(os.path.join(path,'02 DATA', 'PREPARED DATA','customer_order_product_allclean_mergedfile.pkl'))"
   ]
  },
  {
   "cell_type": "markdown",
   "id": "a24a34ad-206e-4212-8a80-9800651d6328",
   "metadata": {},
   "source": [
    "# 2. Question 2"
   ]
  },
  {
   "cell_type": "code",
   "execution_count": 11,
   "id": "da13eb52-05ad-46d6-ab0b-d1125be16596",
   "metadata": {},
   "outputs": [
    {
     "data": {
      "text/plain": [
       "(32434212, 31)"
      ]
     },
     "execution_count": 11,
     "metadata": {},
     "output_type": "execute_result"
    }
   ],
   "source": [
    "# Printing shape of dataset\n",
    "df.shape"
   ]
  },
  {
   "cell_type": "code",
   "execution_count": 13,
   "id": "26ecd431-7bd8-4084-ab88-7ba6dac57bd4",
   "metadata": {},
   "outputs": [
    {
     "data": {
      "text/html": [
       "<div>\n",
       "<style scoped>\n",
       "    .dataframe tbody tr th:only-of-type {\n",
       "        vertical-align: middle;\n",
       "    }\n",
       "\n",
       "    .dataframe tbody tr th {\n",
       "        vertical-align: top;\n",
       "    }\n",
       "\n",
       "    .dataframe thead th {\n",
       "        text-align: right;\n",
       "    }\n",
       "</style>\n",
       "<table border=\"1\" class=\"dataframe\">\n",
       "  <thead>\n",
       "    <tr style=\"text-align: right;\">\n",
       "      <th></th>\n",
       "      <th>product_id</th>\n",
       "      <th>product_name</th>\n",
       "      <th>aisle_id</th>\n",
       "      <th>department_id</th>\n",
       "      <th>prices</th>\n",
       "      <th>order_id</th>\n",
       "      <th>user_id</th>\n",
       "      <th>order_number</th>\n",
       "      <th>order_dow</th>\n",
       "      <th>order_hour_of_day</th>\n",
       "      <th>...</th>\n",
       "      <th>order_frequency</th>\n",
       "      <th>first name</th>\n",
       "      <th>surname</th>\n",
       "      <th>gender</th>\n",
       "      <th>state</th>\n",
       "      <th>age</th>\n",
       "      <th>date_joined</th>\n",
       "      <th>number_of_dependents</th>\n",
       "      <th>marital_status</th>\n",
       "      <th>income</th>\n",
       "    </tr>\n",
       "  </thead>\n",
       "  <tbody>\n",
       "    <tr>\n",
       "      <th>0</th>\n",
       "      <td>1</td>\n",
       "      <td>Chocolate Sandwich Cookies</td>\n",
       "      <td>61</td>\n",
       "      <td>19</td>\n",
       "      <td>5.8</td>\n",
       "      <td>3139998</td>\n",
       "      <td>138</td>\n",
       "      <td>28</td>\n",
       "      <td>6</td>\n",
       "      <td>11</td>\n",
       "      <td>...</td>\n",
       "      <td>Frequent customer</td>\n",
       "      <td>Charles</td>\n",
       "      <td>Cox</td>\n",
       "      <td>Male</td>\n",
       "      <td>Minnesota</td>\n",
       "      <td>81</td>\n",
       "      <td>8/1/2019</td>\n",
       "      <td>1</td>\n",
       "      <td>married</td>\n",
       "      <td>49620</td>\n",
       "    </tr>\n",
       "    <tr>\n",
       "      <th>1</th>\n",
       "      <td>1</td>\n",
       "      <td>Chocolate Sandwich Cookies</td>\n",
       "      <td>61</td>\n",
       "      <td>19</td>\n",
       "      <td>5.8</td>\n",
       "      <td>1977647</td>\n",
       "      <td>138</td>\n",
       "      <td>30</td>\n",
       "      <td>6</td>\n",
       "      <td>17</td>\n",
       "      <td>...</td>\n",
       "      <td>Frequent customer</td>\n",
       "      <td>Charles</td>\n",
       "      <td>Cox</td>\n",
       "      <td>Male</td>\n",
       "      <td>Minnesota</td>\n",
       "      <td>81</td>\n",
       "      <td>8/1/2019</td>\n",
       "      <td>1</td>\n",
       "      <td>married</td>\n",
       "      <td>49620</td>\n",
       "    </tr>\n",
       "    <tr>\n",
       "      <th>2</th>\n",
       "      <td>1</td>\n",
       "      <td>Chocolate Sandwich Cookies</td>\n",
       "      <td>61</td>\n",
       "      <td>19</td>\n",
       "      <td>5.8</td>\n",
       "      <td>389851</td>\n",
       "      <td>709</td>\n",
       "      <td>2</td>\n",
       "      <td>0</td>\n",
       "      <td>21</td>\n",
       "      <td>...</td>\n",
       "      <td>Frequent customer</td>\n",
       "      <td>Deborah</td>\n",
       "      <td>Glass</td>\n",
       "      <td>Female</td>\n",
       "      <td>Vermont</td>\n",
       "      <td>66</td>\n",
       "      <td>6/16/2018</td>\n",
       "      <td>2</td>\n",
       "      <td>married</td>\n",
       "      <td>158302</td>\n",
       "    </tr>\n",
       "    <tr>\n",
       "      <th>3</th>\n",
       "      <td>1</td>\n",
       "      <td>Chocolate Sandwich Cookies</td>\n",
       "      <td>61</td>\n",
       "      <td>19</td>\n",
       "      <td>5.8</td>\n",
       "      <td>652770</td>\n",
       "      <td>764</td>\n",
       "      <td>1</td>\n",
       "      <td>3</td>\n",
       "      <td>13</td>\n",
       "      <td>...</td>\n",
       "      <td>Frequent customer</td>\n",
       "      <td>Heather</td>\n",
       "      <td>Myers</td>\n",
       "      <td>Female</td>\n",
       "      <td>Wisconsin</td>\n",
       "      <td>40</td>\n",
       "      <td>2/9/2020</td>\n",
       "      <td>3</td>\n",
       "      <td>married</td>\n",
       "      <td>31308</td>\n",
       "    </tr>\n",
       "    <tr>\n",
       "      <th>4</th>\n",
       "      <td>1</td>\n",
       "      <td>Chocolate Sandwich Cookies</td>\n",
       "      <td>61</td>\n",
       "      <td>19</td>\n",
       "      <td>5.8</td>\n",
       "      <td>1813452</td>\n",
       "      <td>764</td>\n",
       "      <td>3</td>\n",
       "      <td>4</td>\n",
       "      <td>17</td>\n",
       "      <td>...</td>\n",
       "      <td>Frequent customer</td>\n",
       "      <td>Heather</td>\n",
       "      <td>Myers</td>\n",
       "      <td>Female</td>\n",
       "      <td>Wisconsin</td>\n",
       "      <td>40</td>\n",
       "      <td>2/9/2020</td>\n",
       "      <td>3</td>\n",
       "      <td>married</td>\n",
       "      <td>31308</td>\n",
       "    </tr>\n",
       "  </tbody>\n",
       "</table>\n",
       "<p>5 rows × 31 columns</p>\n",
       "</div>"
      ],
      "text/plain": [
       "   product_id                product_name  aisle_id  department_id  prices  \\\n",
       "0           1  Chocolate Sandwich Cookies        61             19     5.8   \n",
       "1           1  Chocolate Sandwich Cookies        61             19     5.8   \n",
       "2           1  Chocolate Sandwich Cookies        61             19     5.8   \n",
       "3           1  Chocolate Sandwich Cookies        61             19     5.8   \n",
       "4           1  Chocolate Sandwich Cookies        61             19     5.8   \n",
       "\n",
       "   order_id user_id  order_number  order_dow  order_hour_of_day  ...  \\\n",
       "0   3139998     138            28          6                 11  ...   \n",
       "1   1977647     138            30          6                 17  ...   \n",
       "2    389851     709             2          0                 21  ...   \n",
       "3    652770     764             1          3                 13  ...   \n",
       "4   1813452     764             3          4                 17  ...   \n",
       "\n",
       "     order_frequency  first name  surname  gender      state age  date_joined  \\\n",
       "0  Frequent customer     Charles      Cox    Male  Minnesota  81     8/1/2019   \n",
       "1  Frequent customer     Charles      Cox    Male  Minnesota  81     8/1/2019   \n",
       "2  Frequent customer     Deborah    Glass  Female    Vermont  66    6/16/2018   \n",
       "3  Frequent customer     Heather    Myers  Female  Wisconsin  40     2/9/2020   \n",
       "4  Frequent customer     Heather    Myers  Female  Wisconsin  40     2/9/2020   \n",
       "\n",
       "  number_of_dependents  marital_status  income  \n",
       "0                    1         married   49620  \n",
       "1                    1         married   49620  \n",
       "2                    2         married  158302  \n",
       "3                    3         married   31308  \n",
       "4                    3         married   31308  \n",
       "\n",
       "[5 rows x 31 columns]"
      ]
     },
     "execution_count": 13,
     "metadata": {},
     "output_type": "execute_result"
    }
   ],
   "source": [
    "# Printing first few rows to identify PII data\n",
    "df.head()"
   ]
  },
  {
   "cell_type": "markdown",
   "id": "5763be73-1d89-4644-aa68-554d2d430749",
   "metadata": {},
   "source": [
    "The dataset contains first name, surname, gender, state (demography), age, marital status and no. of dependents of customers. These information fall in the category of Personal Identifiable Identity. When these columns are individually looked it won't be easy to identify a particular person. However, when all the PII columns are put together, one might be able to find the exact customer's information or atleast narrow down the search to tens. Therefore, it is very important to safeguard these information at a very secure database and put measures or give access to only the required person that needs to work with the data and make sure the person is highly skilled and professional at his/her work. "
   ]
  },
  {
   "cell_type": "markdown",
   "id": "6827826d-715b-414b-8136-53d8321b1d5d",
   "metadata": {},
   "source": [
    "# 3. Question 3"
   ]
  },
  {
   "cell_type": "code",
   "execution_count": 17,
   "id": "31b4e0ca-b35e-47b5-a135-b7c9ba4548e4",
   "metadata": {},
   "outputs": [],
   "source": [
    "# Defining regions according to their states\n",
    "northeast_states = ['Maine', 'New Hampshire', 'Vermont', 'Massachusetts', 'Rhode Island', 'Connecticut', 'New York', 'Pennsylvania', 'New Jersey']\n",
    "midwest_states = ['Wisconsin', 'Michigan', 'Illinois', 'Indiana', 'Ohio', 'North Dakota', 'South Dakota', 'Nebraska', 'Kansas', 'Minnesota', 'Iowa', 'Missouri']\n",
    "south_states = ['Delaware', 'Maryland', 'District of Columbia', 'Virginia', 'West Virginia', 'North Carolina', 'South Carolina', 'Georgia', 'Florida', 'Kentucky', 'Tennessee', 'Mississippi', 'Alabama', 'Oklahoma', 'Texas', 'Arkansas', 'Louisiana']\n",
    "west_states = ['Idaho', 'Montana', 'Wyoming', 'Nevada', 'Utah', 'Colorado', 'Arizona', 'New Mexico', 'Alaska', 'Washington', 'Oregon', 'California', 'Hawaii']"
   ]
  },
  {
   "cell_type": "code",
   "execution_count": 19,
   "id": "8fd5e849-6157-48fa-97fa-844a64cb62c4",
   "metadata": {},
   "outputs": [],
   "source": [
    "# Creating region column \n",
    "df.loc[df['state'].isin(northeast_states), 'region'] = 'Northeast'\n",
    "df.loc[df['state'].isin(midwest_states), 'region'] = 'Midwest'\n",
    "df.loc[df['state'].isin(south_states), 'region'] = 'South'\n",
    "df.loc[df['state'].isin(west_states), 'region'] = 'West'"
   ]
  },
  {
   "cell_type": "code",
   "execution_count": 20,
   "id": "2c51c847-7dfc-4da8-9a6a-4d8886d2aa75",
   "metadata": {},
   "outputs": [
    {
     "data": {
      "text/html": [
       "<div>\n",
       "<style scoped>\n",
       "    .dataframe tbody tr th:only-of-type {\n",
       "        vertical-align: middle;\n",
       "    }\n",
       "\n",
       "    .dataframe tbody tr th {\n",
       "        vertical-align: top;\n",
       "    }\n",
       "\n",
       "    .dataframe thead th {\n",
       "        text-align: right;\n",
       "    }\n",
       "</style>\n",
       "<table border=\"1\" class=\"dataframe\">\n",
       "  <thead>\n",
       "    <tr style=\"text-align: right;\">\n",
       "      <th></th>\n",
       "      <th>product_id</th>\n",
       "      <th>product_name</th>\n",
       "      <th>aisle_id</th>\n",
       "      <th>department_id</th>\n",
       "      <th>prices</th>\n",
       "      <th>order_id</th>\n",
       "      <th>user_id</th>\n",
       "      <th>order_number</th>\n",
       "      <th>order_dow</th>\n",
       "      <th>order_hour_of_day</th>\n",
       "      <th>...</th>\n",
       "      <th>first name</th>\n",
       "      <th>surname</th>\n",
       "      <th>gender</th>\n",
       "      <th>state</th>\n",
       "      <th>age</th>\n",
       "      <th>date_joined</th>\n",
       "      <th>number_of_dependents</th>\n",
       "      <th>marital_status</th>\n",
       "      <th>income</th>\n",
       "      <th>region</th>\n",
       "    </tr>\n",
       "  </thead>\n",
       "  <tbody>\n",
       "    <tr>\n",
       "      <th>0</th>\n",
       "      <td>1</td>\n",
       "      <td>Chocolate Sandwich Cookies</td>\n",
       "      <td>61</td>\n",
       "      <td>19</td>\n",
       "      <td>5.8</td>\n",
       "      <td>3139998</td>\n",
       "      <td>138</td>\n",
       "      <td>28</td>\n",
       "      <td>6</td>\n",
       "      <td>11</td>\n",
       "      <td>...</td>\n",
       "      <td>Charles</td>\n",
       "      <td>Cox</td>\n",
       "      <td>Male</td>\n",
       "      <td>Minnesota</td>\n",
       "      <td>81</td>\n",
       "      <td>8/1/2019</td>\n",
       "      <td>1</td>\n",
       "      <td>married</td>\n",
       "      <td>49620</td>\n",
       "      <td>Midwest</td>\n",
       "    </tr>\n",
       "    <tr>\n",
       "      <th>1</th>\n",
       "      <td>1</td>\n",
       "      <td>Chocolate Sandwich Cookies</td>\n",
       "      <td>61</td>\n",
       "      <td>19</td>\n",
       "      <td>5.8</td>\n",
       "      <td>1977647</td>\n",
       "      <td>138</td>\n",
       "      <td>30</td>\n",
       "      <td>6</td>\n",
       "      <td>17</td>\n",
       "      <td>...</td>\n",
       "      <td>Charles</td>\n",
       "      <td>Cox</td>\n",
       "      <td>Male</td>\n",
       "      <td>Minnesota</td>\n",
       "      <td>81</td>\n",
       "      <td>8/1/2019</td>\n",
       "      <td>1</td>\n",
       "      <td>married</td>\n",
       "      <td>49620</td>\n",
       "      <td>Midwest</td>\n",
       "    </tr>\n",
       "    <tr>\n",
       "      <th>2</th>\n",
       "      <td>1</td>\n",
       "      <td>Chocolate Sandwich Cookies</td>\n",
       "      <td>61</td>\n",
       "      <td>19</td>\n",
       "      <td>5.8</td>\n",
       "      <td>389851</td>\n",
       "      <td>709</td>\n",
       "      <td>2</td>\n",
       "      <td>0</td>\n",
       "      <td>21</td>\n",
       "      <td>...</td>\n",
       "      <td>Deborah</td>\n",
       "      <td>Glass</td>\n",
       "      <td>Female</td>\n",
       "      <td>Vermont</td>\n",
       "      <td>66</td>\n",
       "      <td>6/16/2018</td>\n",
       "      <td>2</td>\n",
       "      <td>married</td>\n",
       "      <td>158302</td>\n",
       "      <td>Northeast</td>\n",
       "    </tr>\n",
       "    <tr>\n",
       "      <th>3</th>\n",
       "      <td>1</td>\n",
       "      <td>Chocolate Sandwich Cookies</td>\n",
       "      <td>61</td>\n",
       "      <td>19</td>\n",
       "      <td>5.8</td>\n",
       "      <td>652770</td>\n",
       "      <td>764</td>\n",
       "      <td>1</td>\n",
       "      <td>3</td>\n",
       "      <td>13</td>\n",
       "      <td>...</td>\n",
       "      <td>Heather</td>\n",
       "      <td>Myers</td>\n",
       "      <td>Female</td>\n",
       "      <td>Wisconsin</td>\n",
       "      <td>40</td>\n",
       "      <td>2/9/2020</td>\n",
       "      <td>3</td>\n",
       "      <td>married</td>\n",
       "      <td>31308</td>\n",
       "      <td>Midwest</td>\n",
       "    </tr>\n",
       "    <tr>\n",
       "      <th>4</th>\n",
       "      <td>1</td>\n",
       "      <td>Chocolate Sandwich Cookies</td>\n",
       "      <td>61</td>\n",
       "      <td>19</td>\n",
       "      <td>5.8</td>\n",
       "      <td>1813452</td>\n",
       "      <td>764</td>\n",
       "      <td>3</td>\n",
       "      <td>4</td>\n",
       "      <td>17</td>\n",
       "      <td>...</td>\n",
       "      <td>Heather</td>\n",
       "      <td>Myers</td>\n",
       "      <td>Female</td>\n",
       "      <td>Wisconsin</td>\n",
       "      <td>40</td>\n",
       "      <td>2/9/2020</td>\n",
       "      <td>3</td>\n",
       "      <td>married</td>\n",
       "      <td>31308</td>\n",
       "      <td>Midwest</td>\n",
       "    </tr>\n",
       "  </tbody>\n",
       "</table>\n",
       "<p>5 rows × 32 columns</p>\n",
       "</div>"
      ],
      "text/plain": [
       "   product_id                product_name  aisle_id  department_id  prices  \\\n",
       "0           1  Chocolate Sandwich Cookies        61             19     5.8   \n",
       "1           1  Chocolate Sandwich Cookies        61             19     5.8   \n",
       "2           1  Chocolate Sandwich Cookies        61             19     5.8   \n",
       "3           1  Chocolate Sandwich Cookies        61             19     5.8   \n",
       "4           1  Chocolate Sandwich Cookies        61             19     5.8   \n",
       "\n",
       "   order_id user_id  order_number  order_dow  order_hour_of_day  ...  \\\n",
       "0   3139998     138            28          6                 11  ...   \n",
       "1   1977647     138            30          6                 17  ...   \n",
       "2    389851     709             2          0                 21  ...   \n",
       "3    652770     764             1          3                 13  ...   \n",
       "4   1813452     764             3          4                 17  ...   \n",
       "\n",
       "   first name  surname  gender      state age date_joined  \\\n",
       "0     Charles      Cox    Male  Minnesota  81    8/1/2019   \n",
       "1     Charles      Cox    Male  Minnesota  81    8/1/2019   \n",
       "2     Deborah    Glass  Female    Vermont  66   6/16/2018   \n",
       "3     Heather    Myers  Female  Wisconsin  40    2/9/2020   \n",
       "4     Heather    Myers  Female  Wisconsin  40    2/9/2020   \n",
       "\n",
       "   number_of_dependents marital_status  income     region  \n",
       "0                     1        married   49620    Midwest  \n",
       "1                     1        married   49620    Midwest  \n",
       "2                     2        married  158302  Northeast  \n",
       "3                     3        married   31308    Midwest  \n",
       "4                     3        married   31308    Midwest  \n",
       "\n",
       "[5 rows x 32 columns]"
      ]
     },
     "execution_count": 20,
     "metadata": {},
     "output_type": "execute_result"
    }
   ],
   "source": [
    "#Calling Head function to see the region column\n",
    "df.head()"
   ]
  },
  {
   "cell_type": "code",
   "execution_count": 23,
   "id": "ee214d0e-ddd4-4220-85e3-56216e84ea79",
   "metadata": {},
   "outputs": [
    {
     "data": {
      "text/plain": [
       "region\n",
       "South        10801610\n",
       "West          8300445\n",
       "Midwest       7603810\n",
       "Northeast     5728347\n",
       "Name: count, dtype: int64"
      ]
     },
     "execution_count": 23,
     "metadata": {},
     "output_type": "execute_result"
    }
   ],
   "source": [
    "# Checking value_count of region column\n",
    "df['region'].value_counts()"
   ]
  },
  {
   "cell_type": "markdown",
   "id": "31e24b87-bf44-4d45-a934-3fc485392bf6",
   "metadata": {},
   "source": [
    "The result shows that instacart has highest number of customers in the southern states of the US, followed by western, midwest and then lastly the northeast states. This means that southern states like to shopping more through online platform incomparision to states in the other region. "
   ]
  },
  {
   "cell_type": "markdown",
   "id": "e966934c-3601-4697-8ca9-31ac7d56cfe6",
   "metadata": {},
   "source": [
    "# Question 4"
   ]
  },
  {
   "cell_type": "code",
   "execution_count": 29,
   "id": "dd778e5f-7ce3-4d8e-b77f-a0ec21a46eb2",
   "metadata": {},
   "outputs": [
    {
     "data": {
      "text/plain": [
       "(32434212, 32)"
      ]
     },
     "execution_count": 29,
     "metadata": {},
     "output_type": "execute_result"
    }
   ],
   "source": [
    "df.shape"
   ]
  },
  {
   "cell_type": "code",
   "execution_count": 31,
   "id": "c62f659d-3dea-4e74-9743-5150f8cf56fb",
   "metadata": {},
   "outputs": [],
   "source": [
    "# Creating activity column \n",
    "df.loc[df['order_number']<5, 'high/low_activity'] = 'low-activity'\n",
    "df.loc[df['order_number']>=5, 'high/low_activity'] = 'high-activity'"
   ]
  },
  {
   "cell_type": "code",
   "execution_count": 33,
   "id": "bececdeb-c4c1-4d3e-9bc9-7faaee42890b",
   "metadata": {},
   "outputs": [
    {
     "data": {
      "text/plain": [
       "(32434212, 33)"
      ]
     },
     "execution_count": 33,
     "metadata": {},
     "output_type": "execute_result"
    }
   ],
   "source": [
    "# Checking shape of dataset after creating activity column \n",
    "df.shape"
   ]
  },
  {
   "cell_type": "code",
   "execution_count": 35,
   "id": "2afc5fd4-c1e7-43df-8e7f-d50df7c01ff8",
   "metadata": {},
   "outputs": [
    {
     "data": {
      "text/plain": [
       "high/low_activity\n",
       "high-activity    24436791\n",
       "low-activity      7997421\n",
       "Name: count, dtype: int64"
      ]
     },
     "execution_count": 35,
     "metadata": {},
     "output_type": "execute_result"
    }
   ],
   "source": [
    "# Checking value_count of 'high/low_activity' column\n",
    "df['high/low_activity'].value_counts()"
   ]
  },
  {
   "cell_type": "markdown",
   "id": "2626d506-315c-489b-bca7-d34c0a629674",
   "metadata": {},
   "source": [
    "There are 7997421 low-activity customers."
   ]
  },
  {
   "cell_type": "code",
   "execution_count": 38,
   "id": "833d339b-5cd8-4440-8caa-5c4fcb52d214",
   "metadata": {},
   "outputs": [],
   "source": [
    "# Dropping 'low-activity' customers\n",
    "df_2=df[df['high/low_activity']!='low-activity']"
   ]
  },
  {
   "cell_type": "code",
   "execution_count": 39,
   "id": "dc81a6ec-39a3-480a-92a7-79b04677ed55",
   "metadata": {},
   "outputs": [
    {
     "data": {
      "text/plain": [
       "(24436791, 33)"
      ]
     },
     "execution_count": 39,
     "metadata": {},
     "output_type": "execute_result"
    }
   ],
   "source": [
    "df_2.shape"
   ]
  },
  {
   "cell_type": "markdown",
   "id": "aafb6085-68e4-4efa-b8fb-6f9abe99759d",
   "metadata": {},
   "source": [
    "The results show it only contains the number of rows that equals to the number of high-activity customers. This confirms all low-activity customers details are dropped. "
   ]
  },
  {
   "cell_type": "code",
   "execution_count": 43,
   "id": "916dee9e-5a97-41ea-a7cd-1221fb53466e",
   "metadata": {},
   "outputs": [],
   "source": [
    "# Exporting the data\n",
    "df_2.to_pickle(os.path.join(path,'02 DATA','PREPARED DATA','highactivity_customer_order_product_allclean.pkl'))"
   ]
  },
  {
   "cell_type": "markdown",
   "id": "25c0fba8-ba0b-4849-9dc7-82f3a7c8353f",
   "metadata": {},
   "source": [
    "# Question 5 creating customer profile"
   ]
  },
  {
   "cell_type": "markdown",
   "id": "5381c6a5-5aeb-4e2d-bac0-c5d299b32d88",
   "metadata": {},
   "source": [
    "# I. Customer Profiling based on age"
   ]
  },
  {
   "cell_type": "code",
   "execution_count": 47,
   "id": "9dc1d696-6829-4555-9f1f-4450e45d3b77",
   "metadata": {},
   "outputs": [
    {
     "name": "stderr",
     "output_type": "stream",
     "text": [
      "/var/folders/38/3t8_0dvn1h950p6h5yqb56rm0000gn/T/ipykernel_3788/1006854296.py:2: SettingWithCopyWarning: \n",
      "A value is trying to be set on a copy of a slice from a DataFrame.\n",
      "Try using .loc[row_indexer,col_indexer] = value instead\n",
      "\n",
      "See the caveats in the documentation: https://pandas.pydata.org/pandas-docs/stable/user_guide/indexing.html#returning-a-view-versus-a-copy\n",
      "  df_2.loc[df_2['age']<=25, 'age_group']='young_adult'\n"
     ]
    }
   ],
   "source": [
    "#Creating age-group\n",
    "df_2.loc[df_2['age']<=25, 'age_group']='young_adult'\n",
    "df_2.loc[(df_2['age']>25) &(df_2['age']<=65), 'age_group']= 'adult'\n",
    "df_2.loc[df_2['age']>65, 'age_group']='senior'"
   ]
  },
  {
   "cell_type": "code",
   "execution_count": 49,
   "id": "6873bb92-4902-42e3-bcf1-19b782bd56fd",
   "metadata": {},
   "outputs": [
    {
     "data": {
      "text/plain": [
       "age_group\n",
       "adult          15288778\n",
       "senior          6097444\n",
       "young_adult     3050569\n",
       "Name: count, dtype: int64"
      ]
     },
     "execution_count": 49,
     "metadata": {},
     "output_type": "execute_result"
    }
   ],
   "source": [
    "df_2['age_group'].value_counts(dropna = False)"
   ]
  },
  {
   "cell_type": "code",
   "execution_count": 51,
   "id": "3e0db78d-9738-4ae6-ba2b-1c649fd0f960",
   "metadata": {},
   "outputs": [
    {
     "data": {
      "text/html": [
       "<div>\n",
       "<style scoped>\n",
       "    .dataframe tbody tr th:only-of-type {\n",
       "        vertical-align: middle;\n",
       "    }\n",
       "\n",
       "    .dataframe tbody tr th {\n",
       "        vertical-align: top;\n",
       "    }\n",
       "\n",
       "    .dataframe thead th {\n",
       "        text-align: right;\n",
       "    }\n",
       "</style>\n",
       "<table border=\"1\" class=\"dataframe\">\n",
       "  <thead>\n",
       "    <tr style=\"text-align: right;\">\n",
       "      <th></th>\n",
       "      <th>product_id</th>\n",
       "      <th>product_name</th>\n",
       "      <th>aisle_id</th>\n",
       "      <th>department_id</th>\n",
       "      <th>prices</th>\n",
       "      <th>order_id</th>\n",
       "      <th>user_id</th>\n",
       "      <th>order_number</th>\n",
       "      <th>order_dow</th>\n",
       "      <th>order_hour_of_day</th>\n",
       "      <th>...</th>\n",
       "      <th>gender</th>\n",
       "      <th>state</th>\n",
       "      <th>age</th>\n",
       "      <th>date_joined</th>\n",
       "      <th>number_of_dependents</th>\n",
       "      <th>marital_status</th>\n",
       "      <th>income</th>\n",
       "      <th>region</th>\n",
       "      <th>high/low_activity</th>\n",
       "      <th>age_group</th>\n",
       "    </tr>\n",
       "  </thead>\n",
       "  <tbody>\n",
       "    <tr>\n",
       "      <th>0</th>\n",
       "      <td>1</td>\n",
       "      <td>Chocolate Sandwich Cookies</td>\n",
       "      <td>61</td>\n",
       "      <td>19</td>\n",
       "      <td>5.8</td>\n",
       "      <td>3139998</td>\n",
       "      <td>138</td>\n",
       "      <td>28</td>\n",
       "      <td>6</td>\n",
       "      <td>11</td>\n",
       "      <td>...</td>\n",
       "      <td>Male</td>\n",
       "      <td>Minnesota</td>\n",
       "      <td>81</td>\n",
       "      <td>8/1/2019</td>\n",
       "      <td>1</td>\n",
       "      <td>married</td>\n",
       "      <td>49620</td>\n",
       "      <td>Midwest</td>\n",
       "      <td>high-activity</td>\n",
       "      <td>senior</td>\n",
       "    </tr>\n",
       "    <tr>\n",
       "      <th>1</th>\n",
       "      <td>1</td>\n",
       "      <td>Chocolate Sandwich Cookies</td>\n",
       "      <td>61</td>\n",
       "      <td>19</td>\n",
       "      <td>5.8</td>\n",
       "      <td>1977647</td>\n",
       "      <td>138</td>\n",
       "      <td>30</td>\n",
       "      <td>6</td>\n",
       "      <td>17</td>\n",
       "      <td>...</td>\n",
       "      <td>Male</td>\n",
       "      <td>Minnesota</td>\n",
       "      <td>81</td>\n",
       "      <td>8/1/2019</td>\n",
       "      <td>1</td>\n",
       "      <td>married</td>\n",
       "      <td>49620</td>\n",
       "      <td>Midwest</td>\n",
       "      <td>high-activity</td>\n",
       "      <td>senior</td>\n",
       "    </tr>\n",
       "    <tr>\n",
       "      <th>5</th>\n",
       "      <td>1</td>\n",
       "      <td>Chocolate Sandwich Cookies</td>\n",
       "      <td>61</td>\n",
       "      <td>19</td>\n",
       "      <td>5.8</td>\n",
       "      <td>1701441</td>\n",
       "      <td>777</td>\n",
       "      <td>16</td>\n",
       "      <td>1</td>\n",
       "      <td>7</td>\n",
       "      <td>...</td>\n",
       "      <td>Female</td>\n",
       "      <td>Hawaii</td>\n",
       "      <td>51</td>\n",
       "      <td>1/4/2019</td>\n",
       "      <td>2</td>\n",
       "      <td>married</td>\n",
       "      <td>57797</td>\n",
       "      <td>West</td>\n",
       "      <td>high-activity</td>\n",
       "      <td>adult</td>\n",
       "    </tr>\n",
       "    <tr>\n",
       "      <th>7</th>\n",
       "      <td>1</td>\n",
       "      <td>Chocolate Sandwich Cookies</td>\n",
       "      <td>61</td>\n",
       "      <td>19</td>\n",
       "      <td>5.8</td>\n",
       "      <td>1290456</td>\n",
       "      <td>910</td>\n",
       "      <td>12</td>\n",
       "      <td>3</td>\n",
       "      <td>10</td>\n",
       "      <td>...</td>\n",
       "      <td>Female</td>\n",
       "      <td>Tennessee</td>\n",
       "      <td>65</td>\n",
       "      <td>7/25/2019</td>\n",
       "      <td>0</td>\n",
       "      <td>divorced/widowed</td>\n",
       "      <td>44856</td>\n",
       "      <td>South</td>\n",
       "      <td>high-activity</td>\n",
       "      <td>adult</td>\n",
       "    </tr>\n",
       "    <tr>\n",
       "      <th>8</th>\n",
       "      <td>1</td>\n",
       "      <td>Chocolate Sandwich Cookies</td>\n",
       "      <td>61</td>\n",
       "      <td>19</td>\n",
       "      <td>5.8</td>\n",
       "      <td>369558</td>\n",
       "      <td>1052</td>\n",
       "      <td>10</td>\n",
       "      <td>1</td>\n",
       "      <td>20</td>\n",
       "      <td>...</td>\n",
       "      <td>Male</td>\n",
       "      <td>Oregon</td>\n",
       "      <td>72</td>\n",
       "      <td>3/30/2018</td>\n",
       "      <td>1</td>\n",
       "      <td>married</td>\n",
       "      <td>153843</td>\n",
       "      <td>West</td>\n",
       "      <td>high-activity</td>\n",
       "      <td>senior</td>\n",
       "    </tr>\n",
       "  </tbody>\n",
       "</table>\n",
       "<p>5 rows × 34 columns</p>\n",
       "</div>"
      ],
      "text/plain": [
       "   product_id                product_name  aisle_id  department_id  prices  \\\n",
       "0           1  Chocolate Sandwich Cookies        61             19     5.8   \n",
       "1           1  Chocolate Sandwich Cookies        61             19     5.8   \n",
       "5           1  Chocolate Sandwich Cookies        61             19     5.8   \n",
       "7           1  Chocolate Sandwich Cookies        61             19     5.8   \n",
       "8           1  Chocolate Sandwich Cookies        61             19     5.8   \n",
       "\n",
       "   order_id user_id  order_number  order_dow  order_hour_of_day  ...  gender  \\\n",
       "0   3139998     138            28          6                 11  ...    Male   \n",
       "1   1977647     138            30          6                 17  ...    Male   \n",
       "5   1701441     777            16          1                  7  ...  Female   \n",
       "7   1290456     910            12          3                 10  ...  Female   \n",
       "8    369558    1052            10          1                 20  ...    Male   \n",
       "\n",
       "       state  age date_joined number_of_dependents    marital_status  income  \\\n",
       "0  Minnesota   81    8/1/2019                    1           married   49620   \n",
       "1  Minnesota   81    8/1/2019                    1           married   49620   \n",
       "5     Hawaii   51    1/4/2019                    2           married   57797   \n",
       "7  Tennessee   65   7/25/2019                    0  divorced/widowed   44856   \n",
       "8     Oregon   72   3/30/2018                    1           married  153843   \n",
       "\n",
       "    region  high/low_activity age_group  \n",
       "0  Midwest      high-activity    senior  \n",
       "1  Midwest      high-activity    senior  \n",
       "5     West      high-activity     adult  \n",
       "7    South      high-activity     adult  \n",
       "8     West      high-activity    senior  \n",
       "\n",
       "[5 rows x 34 columns]"
      ]
     },
     "execution_count": 51,
     "metadata": {},
     "output_type": "execute_result"
    }
   ],
   "source": [
    "df_2.head(5)"
   ]
  },
  {
   "cell_type": "code",
   "execution_count": 53,
   "id": "029f03f9-8402-4f62-becc-182d58260e08",
   "metadata": {},
   "outputs": [
    {
     "data": {
      "text/html": [
       "<div>\n",
       "<style scoped>\n",
       "    .dataframe tbody tr th:only-of-type {\n",
       "        vertical-align: middle;\n",
       "    }\n",
       "\n",
       "    .dataframe tbody tr th {\n",
       "        vertical-align: top;\n",
       "    }\n",
       "\n",
       "    .dataframe thead tr th {\n",
       "        text-align: left;\n",
       "    }\n",
       "\n",
       "    .dataframe thead tr:last-of-type th {\n",
       "        text-align: right;\n",
       "    }\n",
       "</style>\n",
       "<table border=\"1\" class=\"dataframe\">\n",
       "  <thead>\n",
       "    <tr>\n",
       "      <th></th>\n",
       "      <th colspan=\"3\" halign=\"left\">order_dow</th>\n",
       "    </tr>\n",
       "    <tr>\n",
       "      <th></th>\n",
       "      <th>mean</th>\n",
       "      <th>min</th>\n",
       "      <th>max</th>\n",
       "    </tr>\n",
       "    <tr>\n",
       "      <th>age_group</th>\n",
       "      <th></th>\n",
       "      <th></th>\n",
       "      <th></th>\n",
       "    </tr>\n",
       "  </thead>\n",
       "  <tbody>\n",
       "    <tr>\n",
       "      <th>adult</th>\n",
       "      <td>2.743456</td>\n",
       "      <td>0</td>\n",
       "      <td>6</td>\n",
       "    </tr>\n",
       "    <tr>\n",
       "      <th>senior</th>\n",
       "      <td>2.757390</td>\n",
       "      <td>0</td>\n",
       "      <td>6</td>\n",
       "    </tr>\n",
       "    <tr>\n",
       "      <th>young_adult</th>\n",
       "      <td>2.751083</td>\n",
       "      <td>0</td>\n",
       "      <td>6</td>\n",
       "    </tr>\n",
       "  </tbody>\n",
       "</table>\n",
       "</div>"
      ],
      "text/plain": [
       "            order_dow        \n",
       "                 mean min max\n",
       "age_group                    \n",
       "adult        2.743456   0   6\n",
       "senior       2.757390   0   6\n",
       "young_adult  2.751083   0   6"
      ]
     },
     "execution_count": 53,
     "metadata": {},
     "output_type": "execute_result"
    }
   ],
   "source": [
    "# Aggregating for usage frequency by order_dow\n",
    "df_2.groupby('age_group').agg({'order_dow': ['mean', 'min', 'max']})"
   ]
  },
  {
   "cell_type": "code",
   "execution_count": 55,
   "id": "14b0ea55-6622-4e94-baf5-5c731210225b",
   "metadata": {},
   "outputs": [
    {
     "data": {
      "text/html": [
       "<div>\n",
       "<style scoped>\n",
       "    .dataframe tbody tr th:only-of-type {\n",
       "        vertical-align: middle;\n",
       "    }\n",
       "\n",
       "    .dataframe tbody tr th {\n",
       "        vertical-align: top;\n",
       "    }\n",
       "\n",
       "    .dataframe thead tr th {\n",
       "        text-align: left;\n",
       "    }\n",
       "\n",
       "    .dataframe thead tr:last-of-type th {\n",
       "        text-align: right;\n",
       "    }\n",
       "</style>\n",
       "<table border=\"1\" class=\"dataframe\">\n",
       "  <thead>\n",
       "    <tr>\n",
       "      <th></th>\n",
       "      <th colspan=\"3\" halign=\"left\">days_since_prior_order</th>\n",
       "    </tr>\n",
       "    <tr>\n",
       "      <th></th>\n",
       "      <th>mean</th>\n",
       "      <th>min</th>\n",
       "      <th>max</th>\n",
       "    </tr>\n",
       "    <tr>\n",
       "      <th>age_group</th>\n",
       "      <th></th>\n",
       "      <th></th>\n",
       "      <th></th>\n",
       "    </tr>\n",
       "  </thead>\n",
       "  <tbody>\n",
       "    <tr>\n",
       "      <th>adult</th>\n",
       "      <td>10.090116</td>\n",
       "      <td>0.0</td>\n",
       "      <td>30.0</td>\n",
       "    </tr>\n",
       "    <tr>\n",
       "      <th>senior</th>\n",
       "      <td>10.079791</td>\n",
       "      <td>0.0</td>\n",
       "      <td>30.0</td>\n",
       "    </tr>\n",
       "    <tr>\n",
       "      <th>young_adult</th>\n",
       "      <td>10.072322</td>\n",
       "      <td>0.0</td>\n",
       "      <td>30.0</td>\n",
       "    </tr>\n",
       "  </tbody>\n",
       "</table>\n",
       "</div>"
      ],
      "text/plain": [
       "            days_since_prior_order           \n",
       "                              mean  min   max\n",
       "age_group                                    \n",
       "adult                    10.090116  0.0  30.0\n",
       "senior                   10.079791  0.0  30.0\n",
       "young_adult              10.072322  0.0  30.0"
      ]
     },
     "execution_count": 55,
     "metadata": {},
     "output_type": "execute_result"
    }
   ],
   "source": [
    "# Aggregating for usage frequency by days_since_prior_order\n",
    "df_2.groupby('age_group').agg({'days_since_prior_order': ['mean', 'min', 'max']})"
   ]
  },
  {
   "cell_type": "code",
   "execution_count": 56,
   "id": "30eee826-cea2-4a3b-a040-989184a76cab",
   "metadata": {},
   "outputs": [
    {
     "data": {
      "text/html": [
       "<div>\n",
       "<style scoped>\n",
       "    .dataframe tbody tr th:only-of-type {\n",
       "        vertical-align: middle;\n",
       "    }\n",
       "\n",
       "    .dataframe tbody tr th {\n",
       "        vertical-align: top;\n",
       "    }\n",
       "\n",
       "    .dataframe thead tr th {\n",
       "        text-align: left;\n",
       "    }\n",
       "\n",
       "    .dataframe thead tr:last-of-type th {\n",
       "        text-align: right;\n",
       "    }\n",
       "</style>\n",
       "<table border=\"1\" class=\"dataframe\">\n",
       "  <thead>\n",
       "    <tr>\n",
       "      <th></th>\n",
       "      <th colspan=\"3\" halign=\"left\">prices</th>\n",
       "    </tr>\n",
       "    <tr>\n",
       "      <th></th>\n",
       "      <th>mean</th>\n",
       "      <th>min</th>\n",
       "      <th>max</th>\n",
       "    </tr>\n",
       "    <tr>\n",
       "      <th>age_group</th>\n",
       "      <th></th>\n",
       "      <th></th>\n",
       "      <th></th>\n",
       "    </tr>\n",
       "  </thead>\n",
       "  <tbody>\n",
       "    <tr>\n",
       "      <th>adult</th>\n",
       "      <td>11.800160</td>\n",
       "      <td>1.0</td>\n",
       "      <td>99999.0</td>\n",
       "    </tr>\n",
       "    <tr>\n",
       "      <th>senior</th>\n",
       "      <td>11.673127</td>\n",
       "      <td>1.0</td>\n",
       "      <td>99999.0</td>\n",
       "    </tr>\n",
       "    <tr>\n",
       "      <th>young_adult</th>\n",
       "      <td>12.288692</td>\n",
       "      <td>1.0</td>\n",
       "      <td>99999.0</td>\n",
       "    </tr>\n",
       "  </tbody>\n",
       "</table>\n",
       "</div>"
      ],
      "text/plain": [
       "                prices              \n",
       "                  mean  min      max\n",
       "age_group                           \n",
       "adult        11.800160  1.0  99999.0\n",
       "senior       11.673127  1.0  99999.0\n",
       "young_adult  12.288692  1.0  99999.0"
      ]
     },
     "execution_count": 56,
     "metadata": {},
     "output_type": "execute_result"
    }
   ],
   "source": [
    "# Aggregating for age-based expenditure \n",
    "df_2.groupby('age_group').agg({'prices': ['mean', 'min', 'max']})"
   ]
  },
  {
   "cell_type": "code",
   "execution_count": 59,
   "id": "d00208a0-6223-4aad-9f27-92e59926d798",
   "metadata": {},
   "outputs": [],
   "source": [
    "#Dropping outliers identified in Task 4.9\n",
    "df_2.loc[df_2['prices'] >100, 'prices'] = np.nan"
   ]
  },
  {
   "cell_type": "code",
   "execution_count": 61,
   "id": "c6ef63bd-4dc6-4279-89d2-9e398541946b",
   "metadata": {},
   "outputs": [
    {
     "data": {
      "text/html": [
       "<div>\n",
       "<style scoped>\n",
       "    .dataframe tbody tr th:only-of-type {\n",
       "        vertical-align: middle;\n",
       "    }\n",
       "\n",
       "    .dataframe tbody tr th {\n",
       "        vertical-align: top;\n",
       "    }\n",
       "\n",
       "    .dataframe thead tr th {\n",
       "        text-align: left;\n",
       "    }\n",
       "\n",
       "    .dataframe thead tr:last-of-type th {\n",
       "        text-align: right;\n",
       "    }\n",
       "</style>\n",
       "<table border=\"1\" class=\"dataframe\">\n",
       "  <thead>\n",
       "    <tr>\n",
       "      <th></th>\n",
       "      <th colspan=\"3\" halign=\"left\">prices</th>\n",
       "    </tr>\n",
       "    <tr>\n",
       "      <th></th>\n",
       "      <th>mean</th>\n",
       "      <th>min</th>\n",
       "      <th>max</th>\n",
       "    </tr>\n",
       "    <tr>\n",
       "      <th>age_group</th>\n",
       "      <th></th>\n",
       "      <th></th>\n",
       "      <th></th>\n",
       "    </tr>\n",
       "  </thead>\n",
       "  <tbody>\n",
       "    <tr>\n",
       "      <th>adult</th>\n",
       "      <td>7.795363</td>\n",
       "      <td>1.0</td>\n",
       "      <td>25.0</td>\n",
       "    </tr>\n",
       "    <tr>\n",
       "      <th>senior</th>\n",
       "      <td>7.798122</td>\n",
       "      <td>1.0</td>\n",
       "      <td>25.0</td>\n",
       "    </tr>\n",
       "    <tr>\n",
       "      <th>young_adult</th>\n",
       "      <td>7.789767</td>\n",
       "      <td>1.0</td>\n",
       "      <td>25.0</td>\n",
       "    </tr>\n",
       "  </tbody>\n",
       "</table>\n",
       "</div>"
      ],
      "text/plain": [
       "               prices           \n",
       "                 mean  min   max\n",
       "age_group                       \n",
       "adult        7.795363  1.0  25.0\n",
       "senior       7.798122  1.0  25.0\n",
       "young_adult  7.789767  1.0  25.0"
      ]
     },
     "execution_count": 61,
     "metadata": {},
     "output_type": "execute_result"
    }
   ],
   "source": [
    "df_2.groupby('age_group').agg({'prices': ['mean', 'min', 'max']})"
   ]
  },
  {
   "cell_type": "code",
   "execution_count": 62,
   "id": "537abf23-0e32-481f-acbb-090a2fea41dd",
   "metadata": {},
   "outputs": [
    {
     "data": {
      "image/png": "[encoded data removed]",
      "text/plain": [
       "<Figure size 640x480 with 1 Axes>"
      ]
     },
     "metadata": {},
     "output_type": "display_data"
    }
   ],
   "source": [
    "# Create bar chart for age groups\n",
    "bar=df_2['age_group'].value_counts().plot.bar(color =['blue', 'green','orange'])"
   ]
  },
  {
   "cell_type": "code",
   "execution_count": 65,
   "id": "567ee43e-333d-47f7-983e-65d139906b5c",
   "metadata": {},
   "outputs": [],
   "source": [
    "# Export bar chart\n",
    "bar.figure.savefig(os.path.join(path,'04 ANALYSIS','VISUALIZATIONS','age_group_frequency.png'))"
   ]
  },
  {
   "cell_type": "markdown",
   "id": "143f1387-7fbb-40ed-80b8-f55d3124a2d9",
   "metadata": {},
   "source": [
    "# II.Customer profiling based on income"
   ]
  },
  {
   "cell_type": "code",
   "execution_count": 68,
   "id": "a3a32cce-0b44-4e89-a935-7fd2fe9b1e44",
   "metadata": {},
   "outputs": [
    {
     "name": "stderr",
     "output_type": "stream",
     "text": [
      "/var/folders/38/3t8_0dvn1h950p6h5yqb56rm0000gn/T/ipykernel_3788/1250090262.py:2: SettingWithCopyWarning: \n",
      "A value is trying to be set on a copy of a slice from a DataFrame.\n",
      "Try using .loc[row_indexer,col_indexer] = value instead\n",
      "\n",
      "See the caveats in the documentation: https://pandas.pydata.org/pandas-docs/stable/user_guide/indexing.html#returning-a-view-versus-a-copy\n",
      "  df_2.loc[df_2['income']<=50000, 'income_group']='low'\n"
     ]
    }
   ],
   "source": [
    "# Creating income_group column\n",
    "df_2.loc[df_2['income']<=50000, 'income_group']='low'\n",
    "df_2.loc[(df_2['income']>50000) &(df_2['income']<=100000), 'income_group']='low-middle'\n",
    "df_2.loc[(df_2['income']>100000) &(df_2['income']<=250000), 'income_group']='upper-middle'\n",
    "df_2.loc[df_2['income']>250000, 'income_group']='high'"
   ]
  },
  {
   "cell_type": "code",
   "execution_count": 70,
   "id": "77798aa7-1320-4563-9b72-0305b333f3fb",
   "metadata": {},
   "outputs": [
    {
     "data": {
      "text/plain": [
       "income_group\n",
       "upper-middle    11085899\n",
       "low-middle      10605133\n",
       "low              2596670\n",
       "high              149089\n",
       "Name: count, dtype: int64"
      ]
     },
     "execution_count": 70,
     "metadata": {},
     "output_type": "execute_result"
    }
   ],
   "source": [
    "# Checking value_counts of the new column\n",
    "df_2['income_group'].value_counts(dropna=False)"
   ]
  },
  {
   "cell_type": "code",
   "execution_count": 72,
   "id": "05cc0500-1a63-43d0-be45-065c9141af40",
   "metadata": {},
   "outputs": [
    {
     "data": {
      "text/html": [
       "<div>\n",
       "<style scoped>\n",
       "    .dataframe tbody tr th:only-of-type {\n",
       "        vertical-align: middle;\n",
       "    }\n",
       "\n",
       "    .dataframe tbody tr th {\n",
       "        vertical-align: top;\n",
       "    }\n",
       "\n",
       "    .dataframe thead tr th {\n",
       "        text-align: left;\n",
       "    }\n",
       "\n",
       "    .dataframe thead tr:last-of-type th {\n",
       "        text-align: right;\n",
       "    }\n",
       "</style>\n",
       "<table border=\"1\" class=\"dataframe\">\n",
       "  <thead>\n",
       "    <tr>\n",
       "      <th></th>\n",
       "      <th colspan=\"3\" halign=\"left\">days_since_prior_order</th>\n",
       "    </tr>\n",
       "    <tr>\n",
       "      <th></th>\n",
       "      <th>mean</th>\n",
       "      <th>min</th>\n",
       "      <th>max</th>\n",
       "    </tr>\n",
       "    <tr>\n",
       "      <th>income_group</th>\n",
       "      <th></th>\n",
       "      <th></th>\n",
       "      <th></th>\n",
       "    </tr>\n",
       "  </thead>\n",
       "  <tbody>\n",
       "    <tr>\n",
       "      <th>high</th>\n",
       "      <td>9.617738</td>\n",
       "      <td>0.0</td>\n",
       "      <td>30.0</td>\n",
       "    </tr>\n",
       "    <tr>\n",
       "      <th>low</th>\n",
       "      <td>10.391198</td>\n",
       "      <td>0.0</td>\n",
       "      <td>30.0</td>\n",
       "    </tr>\n",
       "    <tr>\n",
       "      <th>low-middle</th>\n",
       "      <td>10.041682</td>\n",
       "      <td>0.0</td>\n",
       "      <td>30.0</td>\n",
       "    </tr>\n",
       "    <tr>\n",
       "      <th>upper-middle</th>\n",
       "      <td>10.061704</td>\n",
       "      <td>0.0</td>\n",
       "      <td>30.0</td>\n",
       "    </tr>\n",
       "  </tbody>\n",
       "</table>\n",
       "</div>"
      ],
      "text/plain": [
       "             days_since_prior_order           \n",
       "                               mean  min   max\n",
       "income_group                                  \n",
       "high                       9.617738  0.0  30.0\n",
       "low                       10.391198  0.0  30.0\n",
       "low-middle                10.041682  0.0  30.0\n",
       "upper-middle              10.061704  0.0  30.0"
      ]
     },
     "execution_count": 72,
     "metadata": {},
     "output_type": "execute_result"
    }
   ],
   "source": [
    "#Using aggregation for usage frequencies\n",
    "df_2.groupby('income_group').agg({'days_since_prior_order': ['mean', 'min', 'max']})"
   ]
  },
  {
   "cell_type": "code",
   "execution_count": 74,
   "id": "112b659b-43e0-4aef-9331-566c27cee5f3",
   "metadata": {},
   "outputs": [
    {
     "data": {
      "text/html": [
       "<div>\n",
       "<style scoped>\n",
       "    .dataframe tbody tr th:only-of-type {\n",
       "        vertical-align: middle;\n",
       "    }\n",
       "\n",
       "    .dataframe tbody tr th {\n",
       "        vertical-align: top;\n",
       "    }\n",
       "\n",
       "    .dataframe thead tr th {\n",
       "        text-align: left;\n",
       "    }\n",
       "\n",
       "    .dataframe thead tr:last-of-type th {\n",
       "        text-align: right;\n",
       "    }\n",
       "</style>\n",
       "<table border=\"1\" class=\"dataframe\">\n",
       "  <thead>\n",
       "    <tr>\n",
       "      <th></th>\n",
       "      <th colspan=\"3\" halign=\"left\">prices</th>\n",
       "    </tr>\n",
       "    <tr>\n",
       "      <th></th>\n",
       "      <th>mean</th>\n",
       "      <th>min</th>\n",
       "      <th>max</th>\n",
       "    </tr>\n",
       "    <tr>\n",
       "      <th>income_group</th>\n",
       "      <th></th>\n",
       "      <th></th>\n",
       "      <th></th>\n",
       "    </tr>\n",
       "  </thead>\n",
       "  <tbody>\n",
       "    <tr>\n",
       "      <th>high</th>\n",
       "      <td>7.774220</td>\n",
       "      <td>1.0</td>\n",
       "      <td>25.0</td>\n",
       "    </tr>\n",
       "    <tr>\n",
       "      <th>low</th>\n",
       "      <td>6.719240</td>\n",
       "      <td>1.0</td>\n",
       "      <td>25.0</td>\n",
       "    </tr>\n",
       "    <tr>\n",
       "      <th>low-middle</th>\n",
       "      <td>7.891558</td>\n",
       "      <td>1.0</td>\n",
       "      <td>25.0</td>\n",
       "    </tr>\n",
       "    <tr>\n",
       "      <th>upper-middle</th>\n",
       "      <td>7.955694</td>\n",
       "      <td>1.0</td>\n",
       "      <td>25.0</td>\n",
       "    </tr>\n",
       "  </tbody>\n",
       "</table>\n",
       "</div>"
      ],
      "text/plain": [
       "                prices           \n",
       "                  mean  min   max\n",
       "income_group                     \n",
       "high          7.774220  1.0  25.0\n",
       "low           6.719240  1.0  25.0\n",
       "low-middle    7.891558  1.0  25.0\n",
       "upper-middle  7.955694  1.0  25.0"
      ]
     },
     "execution_count": 74,
     "metadata": {},
     "output_type": "execute_result"
    }
   ],
   "source": [
    "#Using aggregation for expenditure\n",
    "df_2.groupby('income_group').agg({'prices': ['mean', 'min', 'max']})"
   ]
  },
  {
   "cell_type": "code",
   "execution_count": 76,
   "id": "3e9cfffc-dc1d-45d4-a561-e1ff6a53213f",
   "metadata": {},
   "outputs": [
    {
     "data": {
      "image/png": "[encoded data removed]",
      "text/plain": [
       "<Figure size 640x480 with 1 Axes>"
      ]
     },
     "metadata": {},
     "output_type": "display_data"
    }
   ],
   "source": [
    "#Bar chart for income_group visualization\n",
    "income_group_barchart = df_2['income_group'].value_counts().sort_values().plot.bar(color='purple')"
   ]
  },
  {
   "cell_type": "code",
   "execution_count": 78,
   "id": "b9a38cbf-be99-4568-8526-bc0dd1304c18",
   "metadata": {},
   "outputs": [],
   "source": [
    "## Export bar chart\n",
    "income_group_barchart.figure.savefig(os.path.join(path,'04 ANALYSIS','VISUALIZATIONS','income_group_frequency.png'))"
   ]
  },
  {
   "cell_type": "markdown",
   "id": "56c0a400-d84b-404e-987f-1542aa9ddb75",
   "metadata": {},
   "source": [
    "# III. Customer profiling based on number_of_dependents"
   ]
  },
  {
   "cell_type": "code",
   "execution_count": 163,
   "id": "a828ebdf-25bf-48c3-bf01-91680f5e451e",
   "metadata": {},
   "outputs": [],
   "source": [
    "# Creating dependents_group column\n",
    "df_2.loc[df_2['number_of_dependents']==0, 'dependents_group']='single_adult'\n",
    "df_2.loc[(df_2['number_of_dependents']==1)|(df_2['number_of_dependents']==2), 'dependents_group']='young_parent'\n",
    "df_2.loc[df_2['number_of_dependents']==3, 'dependents_group']='old_parent'"
   ]
  },
  {
   "cell_type": "code",
   "execution_count": 165,
   "id": "b099d796-ee3d-4c4c-8ee5-44331c194470",
   "metadata": {},
   "outputs": [
    {
     "data": {
      "text/plain": [
       "dependents_group\n",
       "young_parent    12187117\n",
       "old_parent       6138887\n",
       "single_adult     6110787\n",
       "Name: count, dtype: int64"
      ]
     },
     "execution_count": 165,
     "metadata": {},
     "output_type": "execute_result"
    }
   ],
   "source": [
    "#checking value_count of dependent_group\n",
    "df_2['dependents_group'].value_counts()"
   ]
  },
  {
   "cell_type": "code",
   "execution_count": 167,
   "id": "65fd29d9-efd8-4ce9-8a17-2a75e3210668",
   "metadata": {},
   "outputs": [
    {
     "data": {
      "text/html": [
       "<div>\n",
       "<style scoped>\n",
       "    .dataframe tbody tr th:only-of-type {\n",
       "        vertical-align: middle;\n",
       "    }\n",
       "\n",
       "    .dataframe tbody tr th {\n",
       "        vertical-align: top;\n",
       "    }\n",
       "\n",
       "    .dataframe thead tr th {\n",
       "        text-align: left;\n",
       "    }\n",
       "\n",
       "    .dataframe thead tr:last-of-type th {\n",
       "        text-align: right;\n",
       "    }\n",
       "</style>\n",
       "<table border=\"1\" class=\"dataframe\">\n",
       "  <thead>\n",
       "    <tr>\n",
       "      <th></th>\n",
       "      <th colspan=\"3\" halign=\"left\">days_since_prior_order</th>\n",
       "    </tr>\n",
       "    <tr>\n",
       "      <th></th>\n",
       "      <th>mean</th>\n",
       "      <th>min</th>\n",
       "      <th>max</th>\n",
       "    </tr>\n",
       "    <tr>\n",
       "      <th>dependents_group</th>\n",
       "      <th></th>\n",
       "      <th></th>\n",
       "      <th></th>\n",
       "    </tr>\n",
       "  </thead>\n",
       "  <tbody>\n",
       "    <tr>\n",
       "      <th>old_parent</th>\n",
       "      <td>10.098876</td>\n",
       "      <td>0.0</td>\n",
       "      <td>30.0</td>\n",
       "    </tr>\n",
       "    <tr>\n",
       "      <th>single_adult</th>\n",
       "      <td>10.063330</td>\n",
       "      <td>0.0</td>\n",
       "      <td>30.0</td>\n",
       "    </tr>\n",
       "    <tr>\n",
       "      <th>young_parent</th>\n",
       "      <td>10.089515</td>\n",
       "      <td>0.0</td>\n",
       "      <td>30.0</td>\n",
       "    </tr>\n",
       "  </tbody>\n",
       "</table>\n",
       "</div>"
      ],
      "text/plain": [
       "                 days_since_prior_order           \n",
       "                                   mean  min   max\n",
       "dependents_group                                  \n",
       "old_parent                    10.098876  0.0  30.0\n",
       "single_adult                  10.063330  0.0  30.0\n",
       "young_parent                  10.089515  0.0  30.0"
      ]
     },
     "execution_count": 167,
     "metadata": {},
     "output_type": "execute_result"
    }
   ],
   "source": [
    "#Using aggregation for usage frequencies\n",
    "df_2.groupby('dependents_group').agg({'days_since_prior_order': ['mean', 'min', 'max']})"
   ]
  },
  {
   "cell_type": "code",
   "execution_count": 169,
   "id": "46271d86-77c5-479e-8639-5bb79af5973f",
   "metadata": {},
   "outputs": [
    {
     "data": {
      "text/html": [
       "<div>\n",
       "<style scoped>\n",
       "    .dataframe tbody tr th:only-of-type {\n",
       "        vertical-align: middle;\n",
       "    }\n",
       "\n",
       "    .dataframe tbody tr th {\n",
       "        vertical-align: top;\n",
       "    }\n",
       "\n",
       "    .dataframe thead tr th {\n",
       "        text-align: left;\n",
       "    }\n",
       "\n",
       "    .dataframe thead tr:last-of-type th {\n",
       "        text-align: right;\n",
       "    }\n",
       "</style>\n",
       "<table border=\"1\" class=\"dataframe\">\n",
       "  <thead>\n",
       "    <tr>\n",
       "      <th></th>\n",
       "      <th colspan=\"3\" halign=\"left\">prices</th>\n",
       "    </tr>\n",
       "    <tr>\n",
       "      <th></th>\n",
       "      <th>mean</th>\n",
       "      <th>min</th>\n",
       "      <th>max</th>\n",
       "    </tr>\n",
       "    <tr>\n",
       "      <th>dependents_group</th>\n",
       "      <th></th>\n",
       "      <th></th>\n",
       "      <th></th>\n",
       "    </tr>\n",
       "  </thead>\n",
       "  <tbody>\n",
       "    <tr>\n",
       "      <th>old_parent</th>\n",
       "      <td>7.798082</td>\n",
       "      <td>1.0</td>\n",
       "      <td>25.0</td>\n",
       "    </tr>\n",
       "    <tr>\n",
       "      <th>single_adult</th>\n",
       "      <td>7.795911</td>\n",
       "      <td>1.0</td>\n",
       "      <td>25.0</td>\n",
       "    </tr>\n",
       "    <tr>\n",
       "      <th>young_parent</th>\n",
       "      <td>7.793699</td>\n",
       "      <td>1.0</td>\n",
       "      <td>25.0</td>\n",
       "    </tr>\n",
       "  </tbody>\n",
       "</table>\n",
       "</div>"
      ],
      "text/plain": [
       "                    prices           \n",
       "                      mean  min   max\n",
       "dependents_group                     \n",
       "old_parent        7.798082  1.0  25.0\n",
       "single_adult      7.795911  1.0  25.0\n",
       "young_parent      7.793699  1.0  25.0"
      ]
     },
     "execution_count": 169,
     "metadata": {},
     "output_type": "execute_result"
    }
   ],
   "source": [
    "#Using aggregation for expenditure\n",
    "df_2.groupby('dependents_group').agg({'prices': ['mean', 'min', 'max']})"
   ]
  },
  {
   "cell_type": "code",
   "execution_count": 170,
   "id": "bc8340af-8f86-4dca-b142-7b2eb0a9375b",
   "metadata": {},
   "outputs": [],
   "source": [
    "dependents_group_counts=df_2['dependents_group'].value_counts()"
   ]
  },
  {
   "cell_type": "code",
   "execution_count": 173,
   "id": "8536ef5c-f894-4b57-9578-686a311431ec",
   "metadata": {},
   "outputs": [
    {
     "data": {
      "image/png": "[encoded data removed]",
      "text/plain": [
       "<Figure size 600x600 with 1 Axes>"
      ]
     },
     "metadata": {},
     "output_type": "display_data"
    }
   ],
   "source": [
    "#Creating pie_chart for visualization\n",
    "\n",
    "plt.figure(figsize=(6, 6))           # Control size of chart\n",
    "plt.pie(dependents_group_counts, \n",
    "        labels = dependents_group_counts.index, \n",
    "        autopct='%.1f%%',            # Show percentage to one decimal point\n",
    "        colors = ['#e14b31', '#0d88e6', '#5ad45a'],   # Set colors using color palette\n",
    "        wedgeprops = {'edgecolor' : 'black'})       # Set color of boarders\n",
    "plt.title('Instacart Distribution of Customers by number of dependents')      # Set title of pie chart\n",
    "plt.show()"
   ]
  },
  {
   "cell_type": "code",
   "execution_count": 175,
   "id": "bf379ac6-ef09-4f80-bb61-24df85b765f0",
   "metadata": {},
   "outputs": [
    {
     "data": {
      "text/plain": [
       "<Figure size 640x480 with 0 Axes>"
      ]
     },
     "metadata": {},
     "output_type": "display_data"
    }
   ],
   "source": [
    "# Exporting the pie chart\n",
    "plt.savefig(os.path.join(path,'04 ANALYSIS','VISUALIZATIONS','dependents_frequency.png'))"
   ]
  },
  {
   "cell_type": "code",
   "execution_count": 179,
   "id": "7f324134-b76d-4315-8571-0da7bb9b4dd9",
   "metadata": {},
   "outputs": [
    {
     "data": {
      "text/html": [
       "<div>\n",
       "<style scoped>\n",
       "    .dataframe tbody tr th:only-of-type {\n",
       "        vertical-align: middle;\n",
       "    }\n",
       "\n",
       "    .dataframe tbody tr th {\n",
       "        vertical-align: top;\n",
       "    }\n",
       "\n",
       "    .dataframe thead th {\n",
       "        text-align: right;\n",
       "    }\n",
       "</style>\n",
       "<table border=\"1\" class=\"dataframe\">\n",
       "  <thead>\n",
       "    <tr style=\"text-align: right;\">\n",
       "      <th></th>\n",
       "      <th>product_id</th>\n",
       "      <th>product_name</th>\n",
       "      <th>aisle_id</th>\n",
       "      <th>department_id</th>\n",
       "      <th>prices</th>\n",
       "      <th>order_id</th>\n",
       "      <th>user_id</th>\n",
       "      <th>order_number</th>\n",
       "      <th>order_dow</th>\n",
       "      <th>order_hour_of_day</th>\n",
       "      <th>...</th>\n",
       "      <th>age</th>\n",
       "      <th>date_joined</th>\n",
       "      <th>number_of_dependents</th>\n",
       "      <th>marital_status</th>\n",
       "      <th>income</th>\n",
       "      <th>region</th>\n",
       "      <th>high/low_activity</th>\n",
       "      <th>age_group</th>\n",
       "      <th>income_group</th>\n",
       "      <th>dependents_group</th>\n",
       "    </tr>\n",
       "  </thead>\n",
       "  <tbody>\n",
       "    <tr>\n",
       "      <th>0</th>\n",
       "      <td>1</td>\n",
       "      <td>Chocolate Sandwich Cookies</td>\n",
       "      <td>61</td>\n",
       "      <td>19</td>\n",
       "      <td>5.8</td>\n",
       "      <td>3139998</td>\n",
       "      <td>138</td>\n",
       "      <td>28</td>\n",
       "      <td>6</td>\n",
       "      <td>11</td>\n",
       "      <td>...</td>\n",
       "      <td>81</td>\n",
       "      <td>8/1/2019</td>\n",
       "      <td>1</td>\n",
       "      <td>married</td>\n",
       "      <td>49620</td>\n",
       "      <td>Midwest</td>\n",
       "      <td>high-activity</td>\n",
       "      <td>senior</td>\n",
       "      <td>low</td>\n",
       "      <td>young_parent</td>\n",
       "    </tr>\n",
       "    <tr>\n",
       "      <th>1</th>\n",
       "      <td>1</td>\n",
       "      <td>Chocolate Sandwich Cookies</td>\n",
       "      <td>61</td>\n",
       "      <td>19</td>\n",
       "      <td>5.8</td>\n",
       "      <td>1977647</td>\n",
       "      <td>138</td>\n",
       "      <td>30</td>\n",
       "      <td>6</td>\n",
       "      <td>17</td>\n",
       "      <td>...</td>\n",
       "      <td>81</td>\n",
       "      <td>8/1/2019</td>\n",
       "      <td>1</td>\n",
       "      <td>married</td>\n",
       "      <td>49620</td>\n",
       "      <td>Midwest</td>\n",
       "      <td>high-activity</td>\n",
       "      <td>senior</td>\n",
       "      <td>low</td>\n",
       "      <td>young_parent</td>\n",
       "    </tr>\n",
       "    <tr>\n",
       "      <th>5</th>\n",
       "      <td>1</td>\n",
       "      <td>Chocolate Sandwich Cookies</td>\n",
       "      <td>61</td>\n",
       "      <td>19</td>\n",
       "      <td>5.8</td>\n",
       "      <td>1701441</td>\n",
       "      <td>777</td>\n",
       "      <td>16</td>\n",
       "      <td>1</td>\n",
       "      <td>7</td>\n",
       "      <td>...</td>\n",
       "      <td>51</td>\n",
       "      <td>1/4/2019</td>\n",
       "      <td>2</td>\n",
       "      <td>married</td>\n",
       "      <td>57797</td>\n",
       "      <td>West</td>\n",
       "      <td>high-activity</td>\n",
       "      <td>adult</td>\n",
       "      <td>low-middle</td>\n",
       "      <td>young_parent</td>\n",
       "    </tr>\n",
       "    <tr>\n",
       "      <th>7</th>\n",
       "      <td>1</td>\n",
       "      <td>Chocolate Sandwich Cookies</td>\n",
       "      <td>61</td>\n",
       "      <td>19</td>\n",
       "      <td>5.8</td>\n",
       "      <td>1290456</td>\n",
       "      <td>910</td>\n",
       "      <td>12</td>\n",
       "      <td>3</td>\n",
       "      <td>10</td>\n",
       "      <td>...</td>\n",
       "      <td>65</td>\n",
       "      <td>7/25/2019</td>\n",
       "      <td>0</td>\n",
       "      <td>divorced/widowed</td>\n",
       "      <td>44856</td>\n",
       "      <td>South</td>\n",
       "      <td>high-activity</td>\n",
       "      <td>adult</td>\n",
       "      <td>low</td>\n",
       "      <td>single_adult</td>\n",
       "    </tr>\n",
       "    <tr>\n",
       "      <th>8</th>\n",
       "      <td>1</td>\n",
       "      <td>Chocolate Sandwich Cookies</td>\n",
       "      <td>61</td>\n",
       "      <td>19</td>\n",
       "      <td>5.8</td>\n",
       "      <td>369558</td>\n",
       "      <td>1052</td>\n",
       "      <td>10</td>\n",
       "      <td>1</td>\n",
       "      <td>20</td>\n",
       "      <td>...</td>\n",
       "      <td>72</td>\n",
       "      <td>3/30/2018</td>\n",
       "      <td>1</td>\n",
       "      <td>married</td>\n",
       "      <td>153843</td>\n",
       "      <td>West</td>\n",
       "      <td>high-activity</td>\n",
       "      <td>senior</td>\n",
       "      <td>upper-middle</td>\n",
       "      <td>young_parent</td>\n",
       "    </tr>\n",
       "  </tbody>\n",
       "</table>\n",
       "<p>5 rows × 36 columns</p>\n",
       "</div>"
      ],
      "text/plain": [
       "   product_id                product_name  aisle_id  department_id  prices  \\\n",
       "0           1  Chocolate Sandwich Cookies        61             19     5.8   \n",
       "1           1  Chocolate Sandwich Cookies        61             19     5.8   \n",
       "5           1  Chocolate Sandwich Cookies        61             19     5.8   \n",
       "7           1  Chocolate Sandwich Cookies        61             19     5.8   \n",
       "8           1  Chocolate Sandwich Cookies        61             19     5.8   \n",
       "\n",
       "   order_id user_id  order_number  order_dow  order_hour_of_day  ...  age  \\\n",
       "0   3139998     138            28          6                 11  ...   81   \n",
       "1   1977647     138            30          6                 17  ...   81   \n",
       "5   1701441     777            16          1                  7  ...   51   \n",
       "7   1290456     910            12          3                 10  ...   65   \n",
       "8    369558    1052            10          1                 20  ...   72   \n",
       "\n",
       "   date_joined  number_of_dependents    marital_status  income   region  \\\n",
       "0     8/1/2019                     1           married   49620  Midwest   \n",
       "1     8/1/2019                     1           married   49620  Midwest   \n",
       "5     1/4/2019                     2           married   57797     West   \n",
       "7    7/25/2019                     0  divorced/widowed   44856    South   \n",
       "8    3/30/2018                     1           married  153843     West   \n",
       "\n",
       "   high/low_activity age_group  income_group dependents_group  \n",
       "0      high-activity    senior           low     young_parent  \n",
       "1      high-activity    senior           low     young_parent  \n",
       "5      high-activity     adult    low-middle     young_parent  \n",
       "7      high-activity     adult           low     single_adult  \n",
       "8      high-activity    senior  upper-middle     young_parent  \n",
       "\n",
       "[5 rows x 36 columns]"
      ]
     },
     "execution_count": 179,
     "metadata": {},
     "output_type": "execute_result"
    }
   ],
   "source": [
    "df_2.head()"
   ]
  },
  {
   "cell_type": "code",
   "execution_count": 181,
   "id": "41dab58f-35a5-492d-a6ce-bec948f8af94",
   "metadata": {},
   "outputs": [],
   "source": [
    "#Export df_2 file into pickle format\n",
    "df_2.to_pickle(os.path.join(path,'02 DATA','PREPARED DATA','All_variables_customer_order_productcleaned.pkl'))"
   ]
  },
  {
   "cell_type": "markdown",
   "id": "01ca2feb-a62b-4a35-a49a-6cd8095f287d",
   "metadata": {},
   "source": [
    "Further analysis is in script Task 4.10 II"
   ]
  }
 ],
 "metadata": {
  "kernelspec": {
   "display_name": "Python 3 (ipykernel)",
   "language": "python",
   "name": "python3"
  },
  "language_info": {
   "codemirror_mode": {
    "name": "ipython",
    "version": 3
   },
   "file_extension": ".py",
   "mimetype": "text/x-python",
   "name": "python",
   "nbconvert_exporter": "python",
   "pygments_lexer": "ipython3",
   "version": "3.12.4"
  }
 },
 "nbformat": 4,
 "nbformat_minor": 5
}
