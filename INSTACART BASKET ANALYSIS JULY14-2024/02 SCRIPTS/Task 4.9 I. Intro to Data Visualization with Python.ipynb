{
 "cells": [
  {
   "cell_type": "markdown",
   "id": "96149a82-2cae-45c1-bf43-3dba0e4468b5",
   "metadata": {
    "jp-MarkdownHeadingCollapsed": true
   },
   "source": [
    "# This script contains:\n",
    "1. Import libraries and customer data\n",
    "2. Finding basic data shape and printing head rows\n",
    "3. Renaming columns\n",
    "4. Basic data descriptions\n",
    "5. Checking for duplicates\n",
    "6. Finding mixed data\n",
    "7. Checking for missing values\n",
    "8. Combining customer_data with previously prepared data"
   ]
  },
  {
   "cell_type": "markdown",
   "id": "db805f85-04ee-43fb-9791-4b55235820f2",
   "metadata": {},
   "source": [
    "# 1. Import libraries and customer data"
   ]
  },
  {
   "cell_type": "code",
   "execution_count": 97,
   "id": "2af77c14-c364-4dff-bee4-e0dbdbae5f9d",
   "metadata": {},
   "outputs": [],
   "source": [
    "# Import Libraries\n",
    "import pandas as pd\n",
    "import numpy as np\n",
    "import os\n",
    "import matplotlib.pyplot as plt\n",
    "import seaborn as sns\n",
    "import scipy"
   ]
  },
  {
   "cell_type": "code",
   "execution_count": 99,
   "id": "4df6edb0-7568-49ed-87bc-fffae1bfb6f1",
   "metadata": {},
   "outputs": [],
   "source": [
    "# Defining Path\n",
    "path= r'/Users/navneetjha/Desktop/Career foundry Docs/exercises/Data Immersion /Achievement 4/INSTACART BASKET ANALYSIS JULY14-2024'"
   ]
  },
  {
   "cell_type": "code",
   "execution_count": 101,
   "id": "5ad5263f-2653-4dde-bfe6-df22c58590e9",
   "metadata": {},
   "outputs": [
    {
     "data": {
      "text/plain": [
       "'/Users/navneetjha/Desktop/Career foundry Docs/exercises/Data Immersion /Achievement 4/INSTACART BASKET ANALYSIS JULY14-2024'"
      ]
     },
     "execution_count": 101,
     "metadata": {},
     "output_type": "execute_result"
    }
   ],
   "source": [
    "path"
   ]
  },
  {
   "cell_type": "code",
   "execution_count": 103,
   "id": "0249c2b5-a703-4484-baa7-dc0f466146d3",
   "metadata": {},
   "outputs": [],
   "source": [
    "# Import Customer data\n",
    "customer_data=pd.read_csv(os.path.join(path,'02 DATA','ORIGINAL','Raw','customers.csv'), index_col=False)"
   ]
  },
  {
   "cell_type": "markdown",
   "id": "cd71c132-2b9d-40d9-b24e-dc7efb879746",
   "metadata": {},
   "source": [
    "# 2. Finding basic data shape and printing head rows"
   ]
  },
  {
   "cell_type": "code",
   "execution_count": 106,
   "id": "9be49532-f351-47e6-8151-04859cd729fd",
   "metadata": {},
   "outputs": [
    {
     "data": {
      "text/plain": [
       "(206209, 10)"
      ]
     },
     "execution_count": 106,
     "metadata": {},
     "output_type": "execute_result"
    }
   ],
   "source": [
    "# Finding shape\n",
    "customer_data.shape"
   ]
  },
  {
   "cell_type": "code",
   "execution_count": 108,
   "id": "9303e2a4-a6d3-4044-af47-0e652b641950",
   "metadata": {},
   "outputs": [
    {
     "data": {
      "text/html": [
       "<div>\n",
       "<style scoped>\n",
       "    .dataframe tbody tr th:only-of-type {\n",
       "        vertical-align: middle;\n",
       "    }\n",
       "\n",
       "    .dataframe tbody tr th {\n",
       "        vertical-align: top;\n",
       "    }\n",
       "\n",
       "    .dataframe thead th {\n",
       "        text-align: right;\n",
       "    }\n",
       "</style>\n",
       "<table border=\"1\" class=\"dataframe\">\n",
       "  <thead>\n",
       "    <tr style=\"text-align: right;\">\n",
       "      <th></th>\n",
       "      <th>user_id</th>\n",
       "      <th>First Name</th>\n",
       "      <th>Surnam</th>\n",
       "      <th>Gender</th>\n",
       "      <th>STATE</th>\n",
       "      <th>Age</th>\n",
       "      <th>date_joined</th>\n",
       "      <th>n_dependants</th>\n",
       "      <th>fam_status</th>\n",
       "      <th>income</th>\n",
       "    </tr>\n",
       "  </thead>\n",
       "  <tbody>\n",
       "    <tr>\n",
       "      <th>0</th>\n",
       "      <td>26711</td>\n",
       "      <td>Deborah</td>\n",
       "      <td>Esquivel</td>\n",
       "      <td>Female</td>\n",
       "      <td>Missouri</td>\n",
       "      <td>48</td>\n",
       "      <td>1/1/2017</td>\n",
       "      <td>3</td>\n",
       "      <td>married</td>\n",
       "      <td>165665</td>\n",
       "    </tr>\n",
       "    <tr>\n",
       "      <th>1</th>\n",
       "      <td>33890</td>\n",
       "      <td>Patricia</td>\n",
       "      <td>Hart</td>\n",
       "      <td>Female</td>\n",
       "      <td>New Mexico</td>\n",
       "      <td>36</td>\n",
       "      <td>1/1/2017</td>\n",
       "      <td>0</td>\n",
       "      <td>single</td>\n",
       "      <td>59285</td>\n",
       "    </tr>\n",
       "    <tr>\n",
       "      <th>2</th>\n",
       "      <td>65803</td>\n",
       "      <td>Kenneth</td>\n",
       "      <td>Farley</td>\n",
       "      <td>Male</td>\n",
       "      <td>Idaho</td>\n",
       "      <td>35</td>\n",
       "      <td>1/1/2017</td>\n",
       "      <td>2</td>\n",
       "      <td>married</td>\n",
       "      <td>99568</td>\n",
       "    </tr>\n",
       "    <tr>\n",
       "      <th>3</th>\n",
       "      <td>125935</td>\n",
       "      <td>Michelle</td>\n",
       "      <td>Hicks</td>\n",
       "      <td>Female</td>\n",
       "      <td>Iowa</td>\n",
       "      <td>40</td>\n",
       "      <td>1/1/2017</td>\n",
       "      <td>0</td>\n",
       "      <td>single</td>\n",
       "      <td>42049</td>\n",
       "    </tr>\n",
       "    <tr>\n",
       "      <th>4</th>\n",
       "      <td>130797</td>\n",
       "      <td>Ann</td>\n",
       "      <td>Gilmore</td>\n",
       "      <td>Female</td>\n",
       "      <td>Maryland</td>\n",
       "      <td>26</td>\n",
       "      <td>1/1/2017</td>\n",
       "      <td>1</td>\n",
       "      <td>married</td>\n",
       "      <td>40374</td>\n",
       "    </tr>\n",
       "    <tr>\n",
       "      <th>5</th>\n",
       "      <td>133128</td>\n",
       "      <td>Cynthia</td>\n",
       "      <td>Noble</td>\n",
       "      <td>Female</td>\n",
       "      <td>Kentucky</td>\n",
       "      <td>43</td>\n",
       "      <td>1/1/2017</td>\n",
       "      <td>2</td>\n",
       "      <td>married</td>\n",
       "      <td>49643</td>\n",
       "    </tr>\n",
       "    <tr>\n",
       "      <th>6</th>\n",
       "      <td>152052</td>\n",
       "      <td>Chris</td>\n",
       "      <td>Walton</td>\n",
       "      <td>Male</td>\n",
       "      <td>Montana</td>\n",
       "      <td>20</td>\n",
       "      <td>1/1/2017</td>\n",
       "      <td>0</td>\n",
       "      <td>single</td>\n",
       "      <td>61746</td>\n",
       "    </tr>\n",
       "    <tr>\n",
       "      <th>7</th>\n",
       "      <td>168851</td>\n",
       "      <td>Joseph</td>\n",
       "      <td>Hickman</td>\n",
       "      <td>Male</td>\n",
       "      <td>South Carolina</td>\n",
       "      <td>30</td>\n",
       "      <td>1/1/2017</td>\n",
       "      <td>0</td>\n",
       "      <td>single</td>\n",
       "      <td>63712</td>\n",
       "    </tr>\n",
       "    <tr>\n",
       "      <th>8</th>\n",
       "      <td>69965</td>\n",
       "      <td>Jeremy</td>\n",
       "      <td>Vang</td>\n",
       "      <td>Male</td>\n",
       "      <td>Texas</td>\n",
       "      <td>47</td>\n",
       "      <td>1/1/2017</td>\n",
       "      <td>1</td>\n",
       "      <td>married</td>\n",
       "      <td>162432</td>\n",
       "    </tr>\n",
       "    <tr>\n",
       "      <th>9</th>\n",
       "      <td>82820</td>\n",
       "      <td>Shawn</td>\n",
       "      <td>Chung</td>\n",
       "      <td>Male</td>\n",
       "      <td>Virginia</td>\n",
       "      <td>26</td>\n",
       "      <td>1/1/2017</td>\n",
       "      <td>2</td>\n",
       "      <td>married</td>\n",
       "      <td>32072</td>\n",
       "    </tr>\n",
       "    <tr>\n",
       "      <th>10</th>\n",
       "      <td>26441</td>\n",
       "      <td>Gloria</td>\n",
       "      <td>Stafford</td>\n",
       "      <td>Female</td>\n",
       "      <td>Nevada</td>\n",
       "      <td>19</td>\n",
       "      <td>1/1/2017</td>\n",
       "      <td>2</td>\n",
       "      <td>living with parents and siblings</td>\n",
       "      <td>43443</td>\n",
       "    </tr>\n",
       "    <tr>\n",
       "      <th>11</th>\n",
       "      <td>33835</td>\n",
       "      <td>Roger</td>\n",
       "      <td>Casey</td>\n",
       "      <td>Male</td>\n",
       "      <td>Nebraska</td>\n",
       "      <td>45</td>\n",
       "      <td>1/1/2017</td>\n",
       "      <td>2</td>\n",
       "      <td>married</td>\n",
       "      <td>47988</td>\n",
       "    </tr>\n",
       "    <tr>\n",
       "      <th>12</th>\n",
       "      <td>75032</td>\n",
       "      <td>Cynthia</td>\n",
       "      <td>Mcdaniel</td>\n",
       "      <td>Female</td>\n",
       "      <td>Georgia</td>\n",
       "      <td>75</td>\n",
       "      <td>1/1/2017</td>\n",
       "      <td>1</td>\n",
       "      <td>married</td>\n",
       "      <td>57835</td>\n",
       "    </tr>\n",
       "    <tr>\n",
       "      <th>13</th>\n",
       "      <td>51</td>\n",
       "      <td>Stephanie</td>\n",
       "      <td>Jensen</td>\n",
       "      <td>Female</td>\n",
       "      <td>Wyoming</td>\n",
       "      <td>37</td>\n",
       "      <td>1/1/2017</td>\n",
       "      <td>1</td>\n",
       "      <td>married</td>\n",
       "      <td>71190</td>\n",
       "    </tr>\n",
       "    <tr>\n",
       "      <th>14</th>\n",
       "      <td>516</td>\n",
       "      <td>Peter</td>\n",
       "      <td>Hunt</td>\n",
       "      <td>Male</td>\n",
       "      <td>Colorado</td>\n",
       "      <td>51</td>\n",
       "      <td>1/1/2017</td>\n",
       "      <td>2</td>\n",
       "      <td>married</td>\n",
       "      <td>146559</td>\n",
       "    </tr>\n",
       "  </tbody>\n",
       "</table>\n",
       "</div>"
      ],
      "text/plain": [
       "    user_id First Name    Surnam  Gender           STATE  Age date_joined  \\\n",
       "0     26711    Deborah  Esquivel  Female        Missouri   48    1/1/2017   \n",
       "1     33890   Patricia      Hart  Female      New Mexico   36    1/1/2017   \n",
       "2     65803    Kenneth    Farley    Male           Idaho   35    1/1/2017   \n",
       "3    125935   Michelle     Hicks  Female            Iowa   40    1/1/2017   \n",
       "4    130797        Ann   Gilmore  Female        Maryland   26    1/1/2017   \n",
       "5    133128    Cynthia     Noble  Female        Kentucky   43    1/1/2017   \n",
       "6    152052      Chris    Walton    Male         Montana   20    1/1/2017   \n",
       "7    168851     Joseph   Hickman    Male  South Carolina   30    1/1/2017   \n",
       "8     69965     Jeremy      Vang    Male           Texas   47    1/1/2017   \n",
       "9     82820      Shawn     Chung    Male        Virginia   26    1/1/2017   \n",
       "10    26441     Gloria  Stafford  Female          Nevada   19    1/1/2017   \n",
       "11    33835      Roger     Casey    Male        Nebraska   45    1/1/2017   \n",
       "12    75032    Cynthia  Mcdaniel  Female         Georgia   75    1/1/2017   \n",
       "13       51  Stephanie    Jensen  Female         Wyoming   37    1/1/2017   \n",
       "14      516      Peter      Hunt    Male        Colorado   51    1/1/2017   \n",
       "\n",
       "    n_dependants                        fam_status  income  \n",
       "0              3                           married  165665  \n",
       "1              0                            single   59285  \n",
       "2              2                           married   99568  \n",
       "3              0                            single   42049  \n",
       "4              1                           married   40374  \n",
       "5              2                           married   49643  \n",
       "6              0                            single   61746  \n",
       "7              0                            single   63712  \n",
       "8              1                           married  162432  \n",
       "9              2                           married   32072  \n",
       "10             2  living with parents and siblings   43443  \n",
       "11             2                           married   47988  \n",
       "12             1                           married   57835  \n",
       "13             1                           married   71190  \n",
       "14             2                           married  146559  "
      ]
     },
     "execution_count": 108,
     "metadata": {},
     "output_type": "execute_result"
    }
   ],
   "source": [
    "# Printing head rows\n",
    "customer_data.head(15)"
   ]
  },
  {
   "cell_type": "markdown",
   "id": "30c57729-8475-4c95-9525-beee2bdad363",
   "metadata": {},
   "source": [
    "# 3. Renaming columns"
   ]
  },
  {
   "cell_type": "code",
   "execution_count": 111,
   "id": "70ecd85d-7a7e-403c-9636-877b0c8efcb6",
   "metadata": {},
   "outputs": [],
   "source": [
    "# Renaming columns\n",
    "customer_data=customer_data.rename(columns={'Surnam':'surname','First Name':'first name','STATE':'state','Age':'age','Gender':'gender','n_dependants':'number_of_dependents','fam_status':'marital_status'}, inplace=False)"
   ]
  },
  {
   "cell_type": "code",
   "execution_count": 113,
   "id": "4de9c452-a34f-45cf-bd5a-e81eafd07afd",
   "metadata": {},
   "outputs": [
    {
     "data": {
      "text/html": [
       "<div>\n",
       "<style scoped>\n",
       "    .dataframe tbody tr th:only-of-type {\n",
       "        vertical-align: middle;\n",
       "    }\n",
       "\n",
       "    .dataframe tbody tr th {\n",
       "        vertical-align: top;\n",
       "    }\n",
       "\n",
       "    .dataframe thead th {\n",
       "        text-align: right;\n",
       "    }\n",
       "</style>\n",
       "<table border=\"1\" class=\"dataframe\">\n",
       "  <thead>\n",
       "    <tr style=\"text-align: right;\">\n",
       "      <th></th>\n",
       "      <th>user_id</th>\n",
       "      <th>first name</th>\n",
       "      <th>surname</th>\n",
       "      <th>gender</th>\n",
       "      <th>state</th>\n",
       "      <th>age</th>\n",
       "      <th>date_joined</th>\n",
       "      <th>number_of_dependents</th>\n",
       "      <th>marital_status</th>\n",
       "      <th>income</th>\n",
       "    </tr>\n",
       "  </thead>\n",
       "  <tbody>\n",
       "    <tr>\n",
       "      <th>0</th>\n",
       "      <td>26711</td>\n",
       "      <td>Deborah</td>\n",
       "      <td>Esquivel</td>\n",
       "      <td>Female</td>\n",
       "      <td>Missouri</td>\n",
       "      <td>48</td>\n",
       "      <td>1/1/2017</td>\n",
       "      <td>3</td>\n",
       "      <td>married</td>\n",
       "      <td>165665</td>\n",
       "    </tr>\n",
       "    <tr>\n",
       "      <th>1</th>\n",
       "      <td>33890</td>\n",
       "      <td>Patricia</td>\n",
       "      <td>Hart</td>\n",
       "      <td>Female</td>\n",
       "      <td>New Mexico</td>\n",
       "      <td>36</td>\n",
       "      <td>1/1/2017</td>\n",
       "      <td>0</td>\n",
       "      <td>single</td>\n",
       "      <td>59285</td>\n",
       "    </tr>\n",
       "    <tr>\n",
       "      <th>2</th>\n",
       "      <td>65803</td>\n",
       "      <td>Kenneth</td>\n",
       "      <td>Farley</td>\n",
       "      <td>Male</td>\n",
       "      <td>Idaho</td>\n",
       "      <td>35</td>\n",
       "      <td>1/1/2017</td>\n",
       "      <td>2</td>\n",
       "      <td>married</td>\n",
       "      <td>99568</td>\n",
       "    </tr>\n",
       "    <tr>\n",
       "      <th>3</th>\n",
       "      <td>125935</td>\n",
       "      <td>Michelle</td>\n",
       "      <td>Hicks</td>\n",
       "      <td>Female</td>\n",
       "      <td>Iowa</td>\n",
       "      <td>40</td>\n",
       "      <td>1/1/2017</td>\n",
       "      <td>0</td>\n",
       "      <td>single</td>\n",
       "      <td>42049</td>\n",
       "    </tr>\n",
       "    <tr>\n",
       "      <th>4</th>\n",
       "      <td>130797</td>\n",
       "      <td>Ann</td>\n",
       "      <td>Gilmore</td>\n",
       "      <td>Female</td>\n",
       "      <td>Maryland</td>\n",
       "      <td>26</td>\n",
       "      <td>1/1/2017</td>\n",
       "      <td>1</td>\n",
       "      <td>married</td>\n",
       "      <td>40374</td>\n",
       "    </tr>\n",
       "  </tbody>\n",
       "</table>\n",
       "</div>"
      ],
      "text/plain": [
       "   user_id first name   surname  gender       state  age date_joined  \\\n",
       "0    26711    Deborah  Esquivel  Female    Missouri   48    1/1/2017   \n",
       "1    33890   Patricia      Hart  Female  New Mexico   36    1/1/2017   \n",
       "2    65803    Kenneth    Farley    Male       Idaho   35    1/1/2017   \n",
       "3   125935   Michelle     Hicks  Female        Iowa   40    1/1/2017   \n",
       "4   130797        Ann   Gilmore  Female    Maryland   26    1/1/2017   \n",
       "\n",
       "   number_of_dependents marital_status  income  \n",
       "0                     3        married  165665  \n",
       "1                     0         single   59285  \n",
       "2                     2        married   99568  \n",
       "3                     0         single   42049  \n",
       "4                     1        married   40374  "
      ]
     },
     "execution_count": 113,
     "metadata": {},
     "output_type": "execute_result"
    }
   ],
   "source": [
    "customer_data.head()"
   ]
  },
  {
   "cell_type": "markdown",
   "id": "107473d5-b747-46b1-95f7-7bd644441899",
   "metadata": {},
   "source": [
    "# 4. Basic data descriptions"
   ]
  },
  {
   "cell_type": "code",
   "execution_count": 19,
   "id": "009dcf67-596b-498a-8b7a-a5fd0f81ff32",
   "metadata": {},
   "outputs": [
    {
     "name": "stdout",
     "output_type": "stream",
     "text": [
      "<class 'pandas.core.frame.DataFrame'>\n",
      "RangeIndex: 206209 entries, 0 to 206208\n",
      "Data columns (total 10 columns):\n",
      " #   Column                Non-Null Count   Dtype \n",
      "---  ------                --------------   ----- \n",
      " 0   user_id               206209 non-null  int64 \n",
      " 1   first name            194950 non-null  object\n",
      " 2   surname               206209 non-null  object\n",
      " 3   gender                206209 non-null  object\n",
      " 4   state                 206209 non-null  object\n",
      " 5   age                   206209 non-null  int64 \n",
      " 6   date_joined           206209 non-null  object\n",
      " 7   number_of_dependents  206209 non-null  int64 \n",
      " 8   marital_status        206209 non-null  object\n",
      " 9   income                206209 non-null  int64 \n",
      "dtypes: int64(4), object(6)\n",
      "memory usage: 15.7+ MB\n"
     ]
    }
   ],
   "source": [
    "customer_data.info()"
   ]
  },
  {
   "cell_type": "markdown",
   "id": "4c07bb49-b159-4aad-8108-2a602b831c6d",
   "metadata": {},
   "source": [
    "This data shows that there are rows that are missing first name"
   ]
  },
  {
   "cell_type": "code",
   "execution_count": 22,
   "id": "4b01c9c4-041c-4898-a049-62310fd722ea",
   "metadata": {},
   "outputs": [
    {
     "data": {
      "text/html": [
       "<div>\n",
       "<style scoped>\n",
       "    .dataframe tbody tr th:only-of-type {\n",
       "        vertical-align: middle;\n",
       "    }\n",
       "\n",
       "    .dataframe tbody tr th {\n",
       "        vertical-align: top;\n",
       "    }\n",
       "\n",
       "    .dataframe thead th {\n",
       "        text-align: right;\n",
       "    }\n",
       "</style>\n",
       "<table border=\"1\" class=\"dataframe\">\n",
       "  <thead>\n",
       "    <tr style=\"text-align: right;\">\n",
       "      <th></th>\n",
       "      <th>user_id</th>\n",
       "      <th>age</th>\n",
       "      <th>number_of_dependents</th>\n",
       "      <th>income</th>\n",
       "    </tr>\n",
       "  </thead>\n",
       "  <tbody>\n",
       "    <tr>\n",
       "      <th>count</th>\n",
       "      <td>206209.000000</td>\n",
       "      <td>206209.000000</td>\n",
       "      <td>206209.000000</td>\n",
       "      <td>206209.000000</td>\n",
       "    </tr>\n",
       "    <tr>\n",
       "      <th>mean</th>\n",
       "      <td>103105.000000</td>\n",
       "      <td>49.501646</td>\n",
       "      <td>1.499823</td>\n",
       "      <td>94632.852548</td>\n",
       "    </tr>\n",
       "    <tr>\n",
       "      <th>std</th>\n",
       "      <td>59527.555167</td>\n",
       "      <td>18.480962</td>\n",
       "      <td>1.118433</td>\n",
       "      <td>42473.786988</td>\n",
       "    </tr>\n",
       "    <tr>\n",
       "      <th>min</th>\n",
       "      <td>1.000000</td>\n",
       "      <td>18.000000</td>\n",
       "      <td>0.000000</td>\n",
       "      <td>25903.000000</td>\n",
       "    </tr>\n",
       "    <tr>\n",
       "      <th>25%</th>\n",
       "      <td>51553.000000</td>\n",
       "      <td>33.000000</td>\n",
       "      <td>0.000000</td>\n",
       "      <td>59874.000000</td>\n",
       "    </tr>\n",
       "    <tr>\n",
       "      <th>50%</th>\n",
       "      <td>103105.000000</td>\n",
       "      <td>49.000000</td>\n",
       "      <td>1.000000</td>\n",
       "      <td>93547.000000</td>\n",
       "    </tr>\n",
       "    <tr>\n",
       "      <th>75%</th>\n",
       "      <td>154657.000000</td>\n",
       "      <td>66.000000</td>\n",
       "      <td>3.000000</td>\n",
       "      <td>124244.000000</td>\n",
       "    </tr>\n",
       "    <tr>\n",
       "      <th>max</th>\n",
       "      <td>206209.000000</td>\n",
       "      <td>81.000000</td>\n",
       "      <td>3.000000</td>\n",
       "      <td>593901.000000</td>\n",
       "    </tr>\n",
       "  </tbody>\n",
       "</table>\n",
       "</div>"
      ],
      "text/plain": [
       "             user_id            age  number_of_dependents         income\n",
       "count  206209.000000  206209.000000         206209.000000  206209.000000\n",
       "mean   103105.000000      49.501646              1.499823   94632.852548\n",
       "std     59527.555167      18.480962              1.118433   42473.786988\n",
       "min         1.000000      18.000000              0.000000   25903.000000\n",
       "25%     51553.000000      33.000000              0.000000   59874.000000\n",
       "50%    103105.000000      49.000000              1.000000   93547.000000\n",
       "75%    154657.000000      66.000000              3.000000  124244.000000\n",
       "max    206209.000000      81.000000              3.000000  593901.000000"
      ]
     },
     "execution_count": 22,
     "metadata": {},
     "output_type": "execute_result"
    }
   ],
   "source": [
    "# Checking basic statistical values\n",
    "customer_data.describe()"
   ]
  },
  {
   "cell_type": "markdown",
   "id": "937cb2e3-ab6c-476d-9595-dd42977fbe0c",
   "metadata": {},
   "source": [
    " The minimum age is 18 and maximum is 81.\n",
    " The minimum number of dependents is 0(could be possible in case of single) and maximum is 3.\n",
    " Mean income is 94632 which is slightly greater than the 50% quartile. The reason could be the high maximum value of income which is 593901. "
   ]
  },
  {
   "cell_type": "markdown",
   "id": "6953917b-e941-4682-8001-09f6a47bf85b",
   "metadata": {},
   "source": [
    "# 5. Checking for duplicates\n"
   ]
  },
  {
   "cell_type": "code",
   "execution_count": 26,
   "id": "d253150b-4b10-494f-a44a-95191b087d47",
   "metadata": {},
   "outputs": [],
   "source": [
    "#Checking Duplicates\n",
    "customer_data_dups = customer_data[customer_data.duplicated()]"
   ]
  },
  {
   "cell_type": "code",
   "execution_count": 28,
   "id": "7b7b5321-5dd6-4790-a40f-1aeeefa40953",
   "metadata": {},
   "outputs": [
    {
     "data": {
      "text/html": [
       "<div>\n",
       "<style scoped>\n",
       "    .dataframe tbody tr th:only-of-type {\n",
       "        vertical-align: middle;\n",
       "    }\n",
       "\n",
       "    .dataframe tbody tr th {\n",
       "        vertical-align: top;\n",
       "    }\n",
       "\n",
       "    .dataframe thead th {\n",
       "        text-align: right;\n",
       "    }\n",
       "</style>\n",
       "<table border=\"1\" class=\"dataframe\">\n",
       "  <thead>\n",
       "    <tr style=\"text-align: right;\">\n",
       "      <th></th>\n",
       "      <th>user_id</th>\n",
       "      <th>first name</th>\n",
       "      <th>surname</th>\n",
       "      <th>gender</th>\n",
       "      <th>state</th>\n",
       "      <th>age</th>\n",
       "      <th>date_joined</th>\n",
       "      <th>number_of_dependents</th>\n",
       "      <th>marital_status</th>\n",
       "      <th>income</th>\n",
       "    </tr>\n",
       "  </thead>\n",
       "  <tbody>\n",
       "  </tbody>\n",
       "</table>\n",
       "</div>"
      ],
      "text/plain": [
       "Empty DataFrame\n",
       "Columns: [user_id, first name, surname, gender, state, age, date_joined, number_of_dependents, marital_status, income]\n",
       "Index: []"
      ]
     },
     "execution_count": 28,
     "metadata": {},
     "output_type": "execute_result"
    }
   ],
   "source": [
    "customer_data_dups"
   ]
  },
  {
   "cell_type": "markdown",
   "id": "1b5710ab-203f-4bcf-a63a-2fb21523625e",
   "metadata": {},
   "source": [
    "There are no duplicates in the dataset"
   ]
  },
  {
   "cell_type": "markdown",
   "id": "28e26605-f268-4ccb-9f7a-9bdfba306f35",
   "metadata": {},
   "source": [
    "# 6.Finding mixed data"
   ]
  },
  {
   "cell_type": "code",
   "execution_count": 32,
   "id": "b5f81267-0c93-4850-ae86-bb09399e4692",
   "metadata": {},
   "outputs": [
    {
     "name": "stderr",
     "output_type": "stream",
     "text": [
      "/var/folders/38/3t8_0dvn1h950p6h5yqb56rm0000gn/T/ipykernel_803/2918866651.py:2: FutureWarning: DataFrame.applymap has been deprecated. Use DataFrame.map instead.\n",
      "  weird = (customer_data[[col]].applymap(type) != customer_data[[col]].iloc[0].apply(type)).any(axis = 1)\n",
      "/var/folders/38/3t8_0dvn1h950p6h5yqb56rm0000gn/T/ipykernel_803/2918866651.py:2: FutureWarning: DataFrame.applymap has been deprecated. Use DataFrame.map instead.\n",
      "  weird = (customer_data[[col]].applymap(type) != customer_data[[col]].iloc[0].apply(type)).any(axis = 1)\n",
      "/var/folders/38/3t8_0dvn1h950p6h5yqb56rm0000gn/T/ipykernel_803/2918866651.py:2: FutureWarning: DataFrame.applymap has been deprecated. Use DataFrame.map instead.\n",
      "  weird = (customer_data[[col]].applymap(type) != customer_data[[col]].iloc[0].apply(type)).any(axis = 1)\n",
      "/var/folders/38/3t8_0dvn1h950p6h5yqb56rm0000gn/T/ipykernel_803/2918866651.py:2: FutureWarning: DataFrame.applymap has been deprecated. Use DataFrame.map instead.\n",
      "  weird = (customer_data[[col]].applymap(type) != customer_data[[col]].iloc[0].apply(type)).any(axis = 1)\n"
     ]
    },
    {
     "name": "stdout",
     "output_type": "stream",
     "text": [
      "first name\n"
     ]
    },
    {
     "name": "stderr",
     "output_type": "stream",
     "text": [
      "/var/folders/38/3t8_0dvn1h950p6h5yqb56rm0000gn/T/ipykernel_803/2918866651.py:2: FutureWarning: DataFrame.applymap has been deprecated. Use DataFrame.map instead.\n",
      "  weird = (customer_data[[col]].applymap(type) != customer_data[[col]].iloc[0].apply(type)).any(axis = 1)\n",
      "/var/folders/38/3t8_0dvn1h950p6h5yqb56rm0000gn/T/ipykernel_803/2918866651.py:2: FutureWarning: DataFrame.applymap has been deprecated. Use DataFrame.map instead.\n",
      "  weird = (customer_data[[col]].applymap(type) != customer_data[[col]].iloc[0].apply(type)).any(axis = 1)\n",
      "/var/folders/38/3t8_0dvn1h950p6h5yqb56rm0000gn/T/ipykernel_803/2918866651.py:2: FutureWarning: DataFrame.applymap has been deprecated. Use DataFrame.map instead.\n",
      "  weird = (customer_data[[col]].applymap(type) != customer_data[[col]].iloc[0].apply(type)).any(axis = 1)\n",
      "/var/folders/38/3t8_0dvn1h950p6h5yqb56rm0000gn/T/ipykernel_803/2918866651.py:2: FutureWarning: DataFrame.applymap has been deprecated. Use DataFrame.map instead.\n",
      "  weird = (customer_data[[col]].applymap(type) != customer_data[[col]].iloc[0].apply(type)).any(axis = 1)\n",
      "/var/folders/38/3t8_0dvn1h950p6h5yqb56rm0000gn/T/ipykernel_803/2918866651.py:2: FutureWarning: DataFrame.applymap has been deprecated. Use DataFrame.map instead.\n",
      "  weird = (customer_data[[col]].applymap(type) != customer_data[[col]].iloc[0].apply(type)).any(axis = 1)\n",
      "/var/folders/38/3t8_0dvn1h950p6h5yqb56rm0000gn/T/ipykernel_803/2918866651.py:2: FutureWarning: DataFrame.applymap has been deprecated. Use DataFrame.map instead.\n",
      "  weird = (customer_data[[col]].applymap(type) != customer_data[[col]].iloc[0].apply(type)).any(axis = 1)\n"
     ]
    }
   ],
   "source": [
    "for col in customer_data.columns.tolist():\n",
    "  weird = (customer_data[[col]].applymap(type) != customer_data[[col]].iloc[0].apply(type)).any(axis = 1)\n",
    "  if len (customer_data[weird]) > 0:\n",
    "    print (col)"
   ]
  },
  {
   "cell_type": "markdown",
   "id": "39b0510b-d893-4fe3-8462-3ec60d7bd1dc",
   "metadata": {},
   "source": [
    "The result shows that first name column has mixed data"
   ]
  },
  {
   "cell_type": "code",
   "execution_count": 35,
   "id": "e22c420c-d636-44c3-b2cd-cd0e6241f40f",
   "metadata": {},
   "outputs": [],
   "source": [
    "# Fixing mixed data\n",
    "customer_data['first name']=customer_data['first name'].astype('str')"
   ]
  },
  {
   "cell_type": "code",
   "execution_count": 37,
   "id": "2e03c4e7-c0ca-4529-b0f4-05c74d1e43d8",
   "metadata": {},
   "outputs": [
    {
     "data": {
      "text/plain": [
       "dtype('O')"
      ]
     },
     "execution_count": 37,
     "metadata": {},
     "output_type": "execute_result"
    }
   ],
   "source": [
    "# Checking dataype for 'First Name' column\n",
    "customer_data['first name'].dtype"
   ]
  },
  {
   "cell_type": "code",
   "execution_count": 39,
   "id": "294390fa-6329-4367-a23c-9444a24281c9",
   "metadata": {},
   "outputs": [],
   "source": [
    "# Changing the data type of \"user_id\" as we don't need to conduct any statistical analysis of that column\n",
    "customer_data['user_id']=customer_data['user_id'].astype('str')"
   ]
  },
  {
   "cell_type": "code",
   "execution_count": 41,
   "id": "689a64dd-bd4c-4222-9719-2e616f3029aa",
   "metadata": {},
   "outputs": [
    {
     "data": {
      "text/plain": [
       "dtype('O')"
      ]
     },
     "execution_count": 41,
     "metadata": {},
     "output_type": "execute_result"
    }
   ],
   "source": [
    "# checking data type for user_id\n",
    "customer_data['user_id'].dtype"
   ]
  },
  {
   "cell_type": "markdown",
   "id": "7895069c-1375-4925-81d0-189bf4edae21",
   "metadata": {},
   "source": [
    "O symbolises object. Thus all data are in required format."
   ]
  },
  {
   "cell_type": "markdown",
   "id": "cc9b82f7-bc5e-4ebe-b84d-4164d039aae9",
   "metadata": {},
   "source": [
    "# 7. Checking for missing values"
   ]
  },
  {
   "cell_type": "code",
   "execution_count": 45,
   "id": "bfb87c88-db7b-4ff6-b242-c95c7ac22b13",
   "metadata": {},
   "outputs": [
    {
     "data": {
      "text/plain": [
       "user_id                 0\n",
       "first name              0\n",
       "surname                 0\n",
       "gender                  0\n",
       "state                   0\n",
       "age                     0\n",
       "date_joined             0\n",
       "number_of_dependents    0\n",
       "marital_status          0\n",
       "income                  0\n",
       "dtype: int64"
      ]
     },
     "execution_count": 45,
     "metadata": {},
     "output_type": "execute_result"
    }
   ],
   "source": [
    "customer_data.isnull().sum()"
   ]
  },
  {
   "cell_type": "markdown",
   "id": "02ab5df4-ce51-4139-9e80-80c212dee2c6",
   "metadata": {},
   "source": [
    "There are no missing data as well"
   ]
  },
  {
   "cell_type": "markdown",
   "id": "5712507f-6315-4283-a659-62b6e3a6ea57",
   "metadata": {},
   "source": [
    "# 8. Combining customer_data with previously prepared data"
   ]
  },
  {
   "cell_type": "code",
   "execution_count": 49,
   "id": "428355c8-0e3b-430b-96a7-1bb37c0cf6b6",
   "metadata": {},
   "outputs": [],
   "source": [
    "# Importing Previous combined data\n",
    "ords_prods_merge=pd.read_pickle(os.path.join(path,'02 DATA', 'PREPARED DATA','Orders_Products_Merged_Grouped_AggregatedDATA.pkl'))"
   ]
  },
  {
   "cell_type": "code",
   "execution_count": 50,
   "id": "e023f98b-4edd-4999-86b2-b387c620ab3f",
   "metadata": {},
   "outputs": [
    {
     "data": {
      "text/plain": [
       "(32434212, 22)"
      ]
     },
     "execution_count": 50,
     "metadata": {},
     "output_type": "execute_result"
    }
   ],
   "source": [
    "ords_prods_merge.shape"
   ]
  },
  {
   "cell_type": "code",
   "execution_count": 51,
   "id": "f653845e-0772-4eba-b81d-1e4fdceec1db",
   "metadata": {},
   "outputs": [
    {
     "data": {
      "text/html": [
       "<div>\n",
       "<style scoped>\n",
       "    .dataframe tbody tr th:only-of-type {\n",
       "        vertical-align: middle;\n",
       "    }\n",
       "\n",
       "    .dataframe tbody tr th {\n",
       "        vertical-align: top;\n",
       "    }\n",
       "\n",
       "    .dataframe thead th {\n",
       "        text-align: right;\n",
       "    }\n",
       "</style>\n",
       "<table border=\"1\" class=\"dataframe\">\n",
       "  <thead>\n",
       "    <tr style=\"text-align: right;\">\n",
       "      <th></th>\n",
       "      <th>product_id</th>\n",
       "      <th>product_name</th>\n",
       "      <th>aisle_id</th>\n",
       "      <th>department_id</th>\n",
       "      <th>prices</th>\n",
       "      <th>order_id</th>\n",
       "      <th>user_id</th>\n",
       "      <th>order_number</th>\n",
       "      <th>order_dow</th>\n",
       "      <th>order_hour_of_day</th>\n",
       "      <th>...</th>\n",
       "      <th>reordered</th>\n",
       "      <th>_merge</th>\n",
       "      <th>busiest_days</th>\n",
       "      <th>busiest_period_of_day</th>\n",
       "      <th>max_order</th>\n",
       "      <th>loyalty_flag</th>\n",
       "      <th>mean_product_price</th>\n",
       "      <th>spending_flag</th>\n",
       "      <th>median_days_between_orders</th>\n",
       "      <th>order_frequency</th>\n",
       "    </tr>\n",
       "  </thead>\n",
       "  <tbody>\n",
       "    <tr>\n",
       "      <th>0</th>\n",
       "      <td>1</td>\n",
       "      <td>Chocolate Sandwich Cookies</td>\n",
       "      <td>61</td>\n",
       "      <td>19</td>\n",
       "      <td>5.8</td>\n",
       "      <td>3139998</td>\n",
       "      <td>138</td>\n",
       "      <td>28</td>\n",
       "      <td>6</td>\n",
       "      <td>11</td>\n",
       "      <td>...</td>\n",
       "      <td>0</td>\n",
       "      <td>both</td>\n",
       "      <td>Regular Days</td>\n",
       "      <td>Most orders</td>\n",
       "      <td>32</td>\n",
       "      <td>Regular customer</td>\n",
       "      <td>6.935811</td>\n",
       "      <td>Low spender</td>\n",
       "      <td>8.0</td>\n",
       "      <td>Frequent customer</td>\n",
       "    </tr>\n",
       "    <tr>\n",
       "      <th>1</th>\n",
       "      <td>1</td>\n",
       "      <td>Chocolate Sandwich Cookies</td>\n",
       "      <td>61</td>\n",
       "      <td>19</td>\n",
       "      <td>5.8</td>\n",
       "      <td>1977647</td>\n",
       "      <td>138</td>\n",
       "      <td>30</td>\n",
       "      <td>6</td>\n",
       "      <td>17</td>\n",
       "      <td>...</td>\n",
       "      <td>1</td>\n",
       "      <td>both</td>\n",
       "      <td>Regular Days</td>\n",
       "      <td>Average Orders</td>\n",
       "      <td>32</td>\n",
       "      <td>Regular customer</td>\n",
       "      <td>6.935811</td>\n",
       "      <td>Low spender</td>\n",
       "      <td>8.0</td>\n",
       "      <td>Frequent customer</td>\n",
       "    </tr>\n",
       "    <tr>\n",
       "      <th>2</th>\n",
       "      <td>1</td>\n",
       "      <td>Chocolate Sandwich Cookies</td>\n",
       "      <td>61</td>\n",
       "      <td>19</td>\n",
       "      <td>5.8</td>\n",
       "      <td>389851</td>\n",
       "      <td>709</td>\n",
       "      <td>2</td>\n",
       "      <td>0</td>\n",
       "      <td>21</td>\n",
       "      <td>...</td>\n",
       "      <td>0</td>\n",
       "      <td>both</td>\n",
       "      <td>Busiest Days</td>\n",
       "      <td>Average Orders</td>\n",
       "      <td>5</td>\n",
       "      <td>New customer</td>\n",
       "      <td>7.930208</td>\n",
       "      <td>Low spender</td>\n",
       "      <td>8.0</td>\n",
       "      <td>Frequent customer</td>\n",
       "    </tr>\n",
       "    <tr>\n",
       "      <th>3</th>\n",
       "      <td>1</td>\n",
       "      <td>Chocolate Sandwich Cookies</td>\n",
       "      <td>61</td>\n",
       "      <td>19</td>\n",
       "      <td>5.8</td>\n",
       "      <td>652770</td>\n",
       "      <td>764</td>\n",
       "      <td>1</td>\n",
       "      <td>3</td>\n",
       "      <td>13</td>\n",
       "      <td>...</td>\n",
       "      <td>0</td>\n",
       "      <td>both</td>\n",
       "      <td>Slowest Days</td>\n",
       "      <td>Most orders</td>\n",
       "      <td>3</td>\n",
       "      <td>New customer</td>\n",
       "      <td>4.972414</td>\n",
       "      <td>Low spender</td>\n",
       "      <td>9.0</td>\n",
       "      <td>Frequent customer</td>\n",
       "    </tr>\n",
       "    <tr>\n",
       "      <th>4</th>\n",
       "      <td>1</td>\n",
       "      <td>Chocolate Sandwich Cookies</td>\n",
       "      <td>61</td>\n",
       "      <td>19</td>\n",
       "      <td>5.8</td>\n",
       "      <td>1813452</td>\n",
       "      <td>764</td>\n",
       "      <td>3</td>\n",
       "      <td>4</td>\n",
       "      <td>17</td>\n",
       "      <td>...</td>\n",
       "      <td>1</td>\n",
       "      <td>both</td>\n",
       "      <td>Slowest Days</td>\n",
       "      <td>Average Orders</td>\n",
       "      <td>3</td>\n",
       "      <td>New customer</td>\n",
       "      <td>4.972414</td>\n",
       "      <td>Low spender</td>\n",
       "      <td>9.0</td>\n",
       "      <td>Frequent customer</td>\n",
       "    </tr>\n",
       "  </tbody>\n",
       "</table>\n",
       "<p>5 rows × 22 columns</p>\n",
       "</div>"
      ],
      "text/plain": [
       "   product_id                product_name  aisle_id  department_id  prices  \\\n",
       "0           1  Chocolate Sandwich Cookies        61             19     5.8   \n",
       "1           1  Chocolate Sandwich Cookies        61             19     5.8   \n",
       "2           1  Chocolate Sandwich Cookies        61             19     5.8   \n",
       "3           1  Chocolate Sandwich Cookies        61             19     5.8   \n",
       "4           1  Chocolate Sandwich Cookies        61             19     5.8   \n",
       "\n",
       "   order_id  user_id  order_number  order_dow  order_hour_of_day  ...  \\\n",
       "0   3139998      138            28          6                 11  ...   \n",
       "1   1977647      138            30          6                 17  ...   \n",
       "2    389851      709             2          0                 21  ...   \n",
       "3    652770      764             1          3                 13  ...   \n",
       "4   1813452      764             3          4                 17  ...   \n",
       "\n",
       "   reordered  _merge  busiest_days busiest_period_of_day max_order  \\\n",
       "0          0    both  Regular Days           Most orders        32   \n",
       "1          1    both  Regular Days        Average Orders        32   \n",
       "2          0    both  Busiest Days        Average Orders         5   \n",
       "3          0    both  Slowest Days           Most orders         3   \n",
       "4          1    both  Slowest Days        Average Orders         3   \n",
       "\n",
       "       loyalty_flag  mean_product_price spending_flag  \\\n",
       "0  Regular customer            6.935811   Low spender   \n",
       "1  Regular customer            6.935811   Low spender   \n",
       "2      New customer            7.930208   Low spender   \n",
       "3      New customer            4.972414   Low spender   \n",
       "4      New customer            4.972414   Low spender   \n",
       "\n",
       "   median_days_between_orders    order_frequency  \n",
       "0                         8.0  Frequent customer  \n",
       "1                         8.0  Frequent customer  \n",
       "2                         8.0  Frequent customer  \n",
       "3                         9.0  Frequent customer  \n",
       "4                         9.0  Frequent customer  \n",
       "\n",
       "[5 rows x 22 columns]"
      ]
     },
     "execution_count": 51,
     "metadata": {},
     "output_type": "execute_result"
    }
   ],
   "source": [
    "ords_prods_merge.head()"
   ]
  },
  {
   "cell_type": "code",
   "execution_count": 52,
   "id": "d0e33573-cec2-4cbb-9599-7d1a721af342",
   "metadata": {},
   "outputs": [
    {
     "data": {
      "text/html": [
       "<div>\n",
       "<style scoped>\n",
       "    .dataframe tbody tr th:only-of-type {\n",
       "        vertical-align: middle;\n",
       "    }\n",
       "\n",
       "    .dataframe tbody tr th {\n",
       "        vertical-align: top;\n",
       "    }\n",
       "\n",
       "    .dataframe thead th {\n",
       "        text-align: right;\n",
       "    }\n",
       "</style>\n",
       "<table border=\"1\" class=\"dataframe\">\n",
       "  <thead>\n",
       "    <tr style=\"text-align: right;\">\n",
       "      <th></th>\n",
       "      <th>user_id</th>\n",
       "      <th>first name</th>\n",
       "      <th>surname</th>\n",
       "      <th>gender</th>\n",
       "      <th>state</th>\n",
       "      <th>age</th>\n",
       "      <th>date_joined</th>\n",
       "      <th>number_of_dependents</th>\n",
       "      <th>marital_status</th>\n",
       "      <th>income</th>\n",
       "    </tr>\n",
       "  </thead>\n",
       "  <tbody>\n",
       "    <tr>\n",
       "      <th>0</th>\n",
       "      <td>26711</td>\n",
       "      <td>Deborah</td>\n",
       "      <td>Esquivel</td>\n",
       "      <td>Female</td>\n",
       "      <td>Missouri</td>\n",
       "      <td>48</td>\n",
       "      <td>1/1/2017</td>\n",
       "      <td>3</td>\n",
       "      <td>married</td>\n",
       "      <td>165665</td>\n",
       "    </tr>\n",
       "    <tr>\n",
       "      <th>1</th>\n",
       "      <td>33890</td>\n",
       "      <td>Patricia</td>\n",
       "      <td>Hart</td>\n",
       "      <td>Female</td>\n",
       "      <td>New Mexico</td>\n",
       "      <td>36</td>\n",
       "      <td>1/1/2017</td>\n",
       "      <td>0</td>\n",
       "      <td>single</td>\n",
       "      <td>59285</td>\n",
       "    </tr>\n",
       "    <tr>\n",
       "      <th>2</th>\n",
       "      <td>65803</td>\n",
       "      <td>Kenneth</td>\n",
       "      <td>Farley</td>\n",
       "      <td>Male</td>\n",
       "      <td>Idaho</td>\n",
       "      <td>35</td>\n",
       "      <td>1/1/2017</td>\n",
       "      <td>2</td>\n",
       "      <td>married</td>\n",
       "      <td>99568</td>\n",
       "    </tr>\n",
       "    <tr>\n",
       "      <th>3</th>\n",
       "      <td>125935</td>\n",
       "      <td>Michelle</td>\n",
       "      <td>Hicks</td>\n",
       "      <td>Female</td>\n",
       "      <td>Iowa</td>\n",
       "      <td>40</td>\n",
       "      <td>1/1/2017</td>\n",
       "      <td>0</td>\n",
       "      <td>single</td>\n",
       "      <td>42049</td>\n",
       "    </tr>\n",
       "    <tr>\n",
       "      <th>4</th>\n",
       "      <td>130797</td>\n",
       "      <td>Ann</td>\n",
       "      <td>Gilmore</td>\n",
       "      <td>Female</td>\n",
       "      <td>Maryland</td>\n",
       "      <td>26</td>\n",
       "      <td>1/1/2017</td>\n",
       "      <td>1</td>\n",
       "      <td>married</td>\n",
       "      <td>40374</td>\n",
       "    </tr>\n",
       "  </tbody>\n",
       "</table>\n",
       "</div>"
      ],
      "text/plain": [
       "  user_id first name   surname  gender       state  age date_joined  \\\n",
       "0   26711    Deborah  Esquivel  Female    Missouri   48    1/1/2017   \n",
       "1   33890   Patricia      Hart  Female  New Mexico   36    1/1/2017   \n",
       "2   65803    Kenneth    Farley    Male       Idaho   35    1/1/2017   \n",
       "3  125935   Michelle     Hicks  Female        Iowa   40    1/1/2017   \n",
       "4  130797        Ann   Gilmore  Female    Maryland   26    1/1/2017   \n",
       "\n",
       "   number_of_dependents marital_status  income  \n",
       "0                     3        married  165665  \n",
       "1                     0         single   59285  \n",
       "2                     2        married   99568  \n",
       "3                     0         single   42049  \n",
       "4                     1        married   40374  "
      ]
     },
     "execution_count": 52,
     "metadata": {},
     "output_type": "execute_result"
    }
   ],
   "source": [
    "customer_data.head()"
   ]
  },
  {
   "cell_type": "markdown",
   "id": "1da27ead-5cc0-4bc3-86d6-1839474804bc",
   "metadata": {},
   "source": [
    "The common column in both dataset is \"user_id\". So we have to perform the join on \"user_id\"."
   ]
  },
  {
   "cell_type": "code",
   "execution_count": 54,
   "id": "158f5b2a-92e3-4228-8090-0c6015ab1b7a",
   "metadata": {},
   "outputs": [
    {
     "data": {
      "text/plain": [
       "dtype('O')"
      ]
     },
     "execution_count": 54,
     "metadata": {},
     "output_type": "execute_result"
    }
   ],
   "source": [
    "# Checking data type of linking column in both datasets\n",
    "customer_data['user_id'].dtype"
   ]
  },
  {
   "cell_type": "code",
   "execution_count": 60,
   "id": "e6fde1d6-01d1-46fe-a5a8-0c4162acc6fa",
   "metadata": {},
   "outputs": [
    {
     "data": {
      "text/plain": [
       "dtype('int64')"
      ]
     },
     "execution_count": 60,
     "metadata": {},
     "output_type": "execute_result"
    }
   ],
   "source": [
    "ords_prods_merge['user_id'].dtype"
   ]
  },
  {
   "cell_type": "markdown",
   "id": "e325be19-ede2-40de-aa0a-aa47e297e0d7",
   "metadata": {},
   "source": [
    "dtype of \"user_id\" in \"ords_prods_merge\" dataframe is \"int64\" and in \"customer_data\" is \"object\". Therefore, we need to first change the data type of \"user_id\" in \"ords_prods_merge\" dataframe."
   ]
  },
  {
   "cell_type": "code",
   "execution_count": 63,
   "id": "80314641-99fa-496e-86d6-acdd0b9723a9",
   "metadata": {},
   "outputs": [],
   "source": [
    "#Changing data type of \"user_id\" in \"ords_prods_merge\" dataframe.\n",
    "ords_prods_merge['user_id']=ords_prods_merge['user_id'].astype('str')"
   ]
  },
  {
   "cell_type": "code",
   "execution_count": 65,
   "id": "118ffa6a-ad9f-403e-8637-bef9bed9b0ef",
   "metadata": {},
   "outputs": [
    {
     "data": {
      "text/plain": [
       "dtype('O')"
      ]
     },
     "execution_count": 65,
     "metadata": {},
     "output_type": "execute_result"
    }
   ],
   "source": [
    "# Checking data type \n",
    "ords_prods_merge['user_id'].dtype"
   ]
  },
  {
   "cell_type": "markdown",
   "id": "90c07230-8ed0-4143-b21d-5ae1b0d2b1a7",
   "metadata": {},
   "source": [
    "The data type is uniform in both data sets."
   ]
  },
  {
   "cell_type": "code",
   "execution_count": 68,
   "id": "497ae39a-5547-4538-b8fe-a07e79ec1942",
   "metadata": {},
   "outputs": [],
   "source": [
    "# Merging the two dataframes\n",
    "df_merged=ords_prods_merge.merge(customer_data,on='user_id',indicator=False)"
   ]
  },
  {
   "cell_type": "code",
   "execution_count": 70,
   "id": "73adef73-3cdb-412a-bdd9-ef4381b273cc",
   "metadata": {},
   "outputs": [
    {
     "data": {
      "text/plain": [
       "(32434212, 31)"
      ]
     },
     "execution_count": 70,
     "metadata": {},
     "output_type": "execute_result"
    }
   ],
   "source": [
    "# Checking shape of new merged file\n",
    "df_merged.shape"
   ]
  },
  {
   "cell_type": "code",
   "execution_count": 72,
   "id": "935baa72-41e6-4141-87da-4788842ae4c2",
   "metadata": {},
   "outputs": [
    {
     "data": {
      "text/plain": [
       "Index(['product_id', 'product_name', 'aisle_id', 'department_id', 'prices',\n",
       "       'order_id', 'user_id', 'order_number', 'order_dow', 'order_hour_of_day',\n",
       "       'days_since_prior_order', 'add_to_cart_order', 'reordered', '_merge',\n",
       "       'busiest_days', 'busiest_period_of_day', 'max_order', 'loyalty_flag',\n",
       "       'mean_product_price', 'spending_flag', 'median_days_between_orders',\n",
       "       'order_frequency', 'first name', 'surname', 'gender', 'state', 'age',\n",
       "       'date_joined', 'number_of_dependents', 'marital_status', 'income'],\n",
       "      dtype='object')"
      ]
     },
     "execution_count": 72,
     "metadata": {},
     "output_type": "execute_result"
    }
   ],
   "source": [
    "# Checking number of columns in newly merged file\n",
    "df_merged.columns"
   ]
  },
  {
   "cell_type": "code",
   "execution_count": 74,
   "id": "02c3b673-e537-4d8b-ade4-8d744282810c",
   "metadata": {},
   "outputs": [
    {
     "data": {
      "text/html": [
       "<div>\n",
       "<style scoped>\n",
       "    .dataframe tbody tr th:only-of-type {\n",
       "        vertical-align: middle;\n",
       "    }\n",
       "\n",
       "    .dataframe tbody tr th {\n",
       "        vertical-align: top;\n",
       "    }\n",
       "\n",
       "    .dataframe thead th {\n",
       "        text-align: right;\n",
       "    }\n",
       "</style>\n",
       "<table border=\"1\" class=\"dataframe\">\n",
       "  <thead>\n",
       "    <tr style=\"text-align: right;\">\n",
       "      <th></th>\n",
       "      <th>product_id</th>\n",
       "      <th>product_name</th>\n",
       "      <th>aisle_id</th>\n",
       "      <th>department_id</th>\n",
       "      <th>prices</th>\n",
       "      <th>order_id</th>\n",
       "      <th>user_id</th>\n",
       "      <th>order_number</th>\n",
       "      <th>order_dow</th>\n",
       "      <th>order_hour_of_day</th>\n",
       "      <th>...</th>\n",
       "      <th>order_frequency</th>\n",
       "      <th>first name</th>\n",
       "      <th>surname</th>\n",
       "      <th>gender</th>\n",
       "      <th>state</th>\n",
       "      <th>age</th>\n",
       "      <th>date_joined</th>\n",
       "      <th>number_of_dependents</th>\n",
       "      <th>marital_status</th>\n",
       "      <th>income</th>\n",
       "    </tr>\n",
       "  </thead>\n",
       "  <tbody>\n",
       "    <tr>\n",
       "      <th>0</th>\n",
       "      <td>1</td>\n",
       "      <td>Chocolate Sandwich Cookies</td>\n",
       "      <td>61</td>\n",
       "      <td>19</td>\n",
       "      <td>5.8</td>\n",
       "      <td>3139998</td>\n",
       "      <td>138</td>\n",
       "      <td>28</td>\n",
       "      <td>6</td>\n",
       "      <td>11</td>\n",
       "      <td>...</td>\n",
       "      <td>Frequent customer</td>\n",
       "      <td>Charles</td>\n",
       "      <td>Cox</td>\n",
       "      <td>Male</td>\n",
       "      <td>Minnesota</td>\n",
       "      <td>81</td>\n",
       "      <td>8/1/2019</td>\n",
       "      <td>1</td>\n",
       "      <td>married</td>\n",
       "      <td>49620</td>\n",
       "    </tr>\n",
       "    <tr>\n",
       "      <th>1</th>\n",
       "      <td>1</td>\n",
       "      <td>Chocolate Sandwich Cookies</td>\n",
       "      <td>61</td>\n",
       "      <td>19</td>\n",
       "      <td>5.8</td>\n",
       "      <td>1977647</td>\n",
       "      <td>138</td>\n",
       "      <td>30</td>\n",
       "      <td>6</td>\n",
       "      <td>17</td>\n",
       "      <td>...</td>\n",
       "      <td>Frequent customer</td>\n",
       "      <td>Charles</td>\n",
       "      <td>Cox</td>\n",
       "      <td>Male</td>\n",
       "      <td>Minnesota</td>\n",
       "      <td>81</td>\n",
       "      <td>8/1/2019</td>\n",
       "      <td>1</td>\n",
       "      <td>married</td>\n",
       "      <td>49620</td>\n",
       "    </tr>\n",
       "    <tr>\n",
       "      <th>2</th>\n",
       "      <td>1</td>\n",
       "      <td>Chocolate Sandwich Cookies</td>\n",
       "      <td>61</td>\n",
       "      <td>19</td>\n",
       "      <td>5.8</td>\n",
       "      <td>389851</td>\n",
       "      <td>709</td>\n",
       "      <td>2</td>\n",
       "      <td>0</td>\n",
       "      <td>21</td>\n",
       "      <td>...</td>\n",
       "      <td>Frequent customer</td>\n",
       "      <td>Deborah</td>\n",
       "      <td>Glass</td>\n",
       "      <td>Female</td>\n",
       "      <td>Vermont</td>\n",
       "      <td>66</td>\n",
       "      <td>6/16/2018</td>\n",
       "      <td>2</td>\n",
       "      <td>married</td>\n",
       "      <td>158302</td>\n",
       "    </tr>\n",
       "    <tr>\n",
       "      <th>3</th>\n",
       "      <td>1</td>\n",
       "      <td>Chocolate Sandwich Cookies</td>\n",
       "      <td>61</td>\n",
       "      <td>19</td>\n",
       "      <td>5.8</td>\n",
       "      <td>652770</td>\n",
       "      <td>764</td>\n",
       "      <td>1</td>\n",
       "      <td>3</td>\n",
       "      <td>13</td>\n",
       "      <td>...</td>\n",
       "      <td>Frequent customer</td>\n",
       "      <td>Heather</td>\n",
       "      <td>Myers</td>\n",
       "      <td>Female</td>\n",
       "      <td>Wisconsin</td>\n",
       "      <td>40</td>\n",
       "      <td>2/9/2020</td>\n",
       "      <td>3</td>\n",
       "      <td>married</td>\n",
       "      <td>31308</td>\n",
       "    </tr>\n",
       "    <tr>\n",
       "      <th>4</th>\n",
       "      <td>1</td>\n",
       "      <td>Chocolate Sandwich Cookies</td>\n",
       "      <td>61</td>\n",
       "      <td>19</td>\n",
       "      <td>5.8</td>\n",
       "      <td>1813452</td>\n",
       "      <td>764</td>\n",
       "      <td>3</td>\n",
       "      <td>4</td>\n",
       "      <td>17</td>\n",
       "      <td>...</td>\n",
       "      <td>Frequent customer</td>\n",
       "      <td>Heather</td>\n",
       "      <td>Myers</td>\n",
       "      <td>Female</td>\n",
       "      <td>Wisconsin</td>\n",
       "      <td>40</td>\n",
       "      <td>2/9/2020</td>\n",
       "      <td>3</td>\n",
       "      <td>married</td>\n",
       "      <td>31308</td>\n",
       "    </tr>\n",
       "  </tbody>\n",
       "</table>\n",
       "<p>5 rows × 31 columns</p>\n",
       "</div>"
      ],
      "text/plain": [
       "   product_id                product_name  aisle_id  department_id  prices  \\\n",
       "0           1  Chocolate Sandwich Cookies        61             19     5.8   \n",
       "1           1  Chocolate Sandwich Cookies        61             19     5.8   \n",
       "2           1  Chocolate Sandwich Cookies        61             19     5.8   \n",
       "3           1  Chocolate Sandwich Cookies        61             19     5.8   \n",
       "4           1  Chocolate Sandwich Cookies        61             19     5.8   \n",
       "\n",
       "   order_id user_id  order_number  order_dow  order_hour_of_day  ...  \\\n",
       "0   3139998     138            28          6                 11  ...   \n",
       "1   1977647     138            30          6                 17  ...   \n",
       "2    389851     709             2          0                 21  ...   \n",
       "3    652770     764             1          3                 13  ...   \n",
       "4   1813452     764             3          4                 17  ...   \n",
       "\n",
       "     order_frequency  first name  surname  gender      state age  date_joined  \\\n",
       "0  Frequent customer     Charles      Cox    Male  Minnesota  81     8/1/2019   \n",
       "1  Frequent customer     Charles      Cox    Male  Minnesota  81     8/1/2019   \n",
       "2  Frequent customer     Deborah    Glass  Female    Vermont  66    6/16/2018   \n",
       "3  Frequent customer     Heather    Myers  Female  Wisconsin  40     2/9/2020   \n",
       "4  Frequent customer     Heather    Myers  Female  Wisconsin  40     2/9/2020   \n",
       "\n",
       "  number_of_dependents  marital_status  income  \n",
       "0                    1         married   49620  \n",
       "1                    1         married   49620  \n",
       "2                    2         married  158302  \n",
       "3                    3         married   31308  \n",
       "4                    3         married   31308  \n",
       "\n",
       "[5 rows x 31 columns]"
      ]
     },
     "execution_count": 74,
     "metadata": {},
     "output_type": "execute_result"
    }
   ],
   "source": [
    "df_merged.head()"
   ]
  },
  {
   "cell_type": "code",
   "execution_count": 76,
   "id": "e951e822-da8e-4d1e-808d-75e1e0525aa9",
   "metadata": {},
   "outputs": [
    {
     "data": {
      "text/plain": [
       "_merge\n",
       "both          32434212\n",
       "left_only            0\n",
       "right_only           0\n",
       "Name: count, dtype: int64"
      ]
     },
     "execution_count": 76,
     "metadata": {},
     "output_type": "execute_result"
    }
   ],
   "source": [
    "# Inner Join count\n",
    "df_merged['_merge'].value_counts()"
   ]
  },
  {
   "cell_type": "markdown",
   "id": "fe8f6bd5-f803-4a2b-a617-f875ca4e4e9a",
   "metadata": {},
   "source": [
    "All joins are inner joins"
   ]
  },
  {
   "cell_type": "code",
   "execution_count": 79,
   "id": "8f867985-f41e-46f2-be9f-ca073e8b46e7",
   "metadata": {},
   "outputs": [
    {
     "data": {
      "text/plain": [
       "product_id                       int64\n",
       "product_name                    object\n",
       "aisle_id                         int64\n",
       "department_id                    int64\n",
       "prices                         float64\n",
       "order_id                         int64\n",
       "user_id                         object\n",
       "order_number                     int64\n",
       "order_dow                        int64\n",
       "order_hour_of_day                int64\n",
       "days_since_prior_order         float64\n",
       "add_to_cart_order                int64\n",
       "reordered                        int64\n",
       "_merge                        category\n",
       "busiest_days                    object\n",
       "busiest_period_of_day           object\n",
       "max_order                        int64\n",
       "loyalty_flag                    object\n",
       "mean_product_price             float64\n",
       "spending_flag                   object\n",
       "median_days_between_orders     float64\n",
       "order_frequency                 object\n",
       "first name                      object\n",
       "surname                         object\n",
       "gender                          object\n",
       "state                           object\n",
       "age                              int64\n",
       "date_joined                     object\n",
       "number_of_dependents             int64\n",
       "marital_status                  object\n",
       "income                           int64\n",
       "dtype: object"
      ]
     },
     "execution_count": 79,
     "metadata": {},
     "output_type": "execute_result"
    }
   ],
   "source": [
    "df_merged.dtypes"
   ]
  },
  {
   "cell_type": "code",
   "execution_count": 81,
   "id": "9a5ae6ed-ada3-4c6e-b16d-2a587602fc3a",
   "metadata": {},
   "outputs": [],
   "source": [
    "# Exporting the merged file in pickle format\n",
    "df_merged.to_pickle(os.path.join(path,'02 DATA','PREPARED DATA','customer_order_product_allclean_mergedfile.pkl'))"
   ]
  }
 ],
 "metadata": {
  "kernelspec": {
   "display_name": "Python 3 (ipykernel)",
   "language": "python",
   "name": "python3"
  },
  "language_info": {
   "codemirror_mode": {
    "name": "ipython",
    "version": 3
   },
   "file_extension": ".py",
   "mimetype": "text/x-python",
   "name": "python",
   "nbconvert_exporter": "python",
   "pygments_lexer": "ipython3",
   "version": "3.12.4"
  }
 },
 "nbformat": 4,
 "nbformat_minor": 5
}
